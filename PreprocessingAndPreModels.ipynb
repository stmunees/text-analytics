{
 "cells": [
  {
   "cell_type": "code",
   "execution_count": 1,
   "metadata": {},
   "outputs": [],
   "source": [
    "import pandas as pd\n",
    "import numpy as np\n",
    "from contractions import contractions\n",
    "from nltk.corpus import stopwords\n",
    "from nltk.tokenize import word_tokenize\n",
    "from bs4 import BeautifulSoup\n",
    "import re\n",
    "from tqdm import tqdm\n",
    "from sklearn.feature_extraction.text import CountVectorizer #BoW"
   ]
  },
  {
   "cell_type": "code",
   "execution_count": 2,
   "metadata": {},
   "outputs": [],
   "source": [
    "def readAllDataAndMerge():\n",
    "    #data = pd.read_csv('dataset/avg_cleaned_25k_yelp.csv')\n",
    "    \n",
    "    data = pd.read_csv('dataset/pos_cleaned_25k_yelp.csv')\n",
    "    negReviews = pd.read_csv('dataset/neg_cleaned_25k_yelp.csv')\n",
    "    \n",
    "    data = data.append(negReviews, ignore_index = True) \n",
    "    return data"
   ]
  },
  {
   "cell_type": "code",
   "execution_count": 3,
   "metadata": {},
   "outputs": [],
   "source": [
    "data = readAllDataAndMerge()"
   ]
  },
  {
   "cell_type": "code",
   "execution_count": 4,
   "metadata": {
    "scrolled": true
   },
   "outputs": [
    {
     "data": {
      "text/html": [
       "<div>\n",
       "<style scoped>\n",
       "    .dataframe tbody tr th:only-of-type {\n",
       "        vertical-align: middle;\n",
       "    }\n",
       "\n",
       "    .dataframe tbody tr th {\n",
       "        vertical-align: top;\n",
       "    }\n",
       "\n",
       "    .dataframe thead th {\n",
       "        text-align: right;\n",
       "    }\n",
       "</style>\n",
       "<table border=\"1\" class=\"dataframe\">\n",
       "  <thead>\n",
       "    <tr style=\"text-align: right;\">\n",
       "      <th></th>\n",
       "      <th>stars</th>\n",
       "      <th>date</th>\n",
       "      <th>text</th>\n",
       "      <th>useful</th>\n",
       "    </tr>\n",
       "  </thead>\n",
       "  <tbody>\n",
       "    <tr>\n",
       "      <th>0</th>\n",
       "      <td>5</td>\n",
       "      <td>2016-10-11</td>\n",
       "      <td>Nice Find!\\n\\nWe just happened on this restaur...</td>\n",
       "      <td>0</td>\n",
       "    </tr>\n",
       "    <tr>\n",
       "      <th>1</th>\n",
       "      <td>4</td>\n",
       "      <td>2015-01-13</td>\n",
       "      <td>So customer service might not be the greatest ...</td>\n",
       "      <td>2</td>\n",
       "    </tr>\n",
       "    <tr>\n",
       "      <th>2</th>\n",
       "      <td>4</td>\n",
       "      <td>2014-05-29</td>\n",
       "      <td>Never knew about this coffee shop until they o...</td>\n",
       "      <td>0</td>\n",
       "    </tr>\n",
       "    <tr>\n",
       "      <th>3</th>\n",
       "      <td>4</td>\n",
       "      <td>2014-11-13</td>\n",
       "      <td>Came here the other day to get a 60-minute det...</td>\n",
       "      <td>7</td>\n",
       "    </tr>\n",
       "    <tr>\n",
       "      <th>4</th>\n",
       "      <td>5</td>\n",
       "      <td>2016-11-10</td>\n",
       "      <td>This place is a bit of an institution and I us...</td>\n",
       "      <td>0</td>\n",
       "    </tr>\n",
       "  </tbody>\n",
       "</table>\n",
       "</div>"
      ],
      "text/plain": [
       "   stars        date                                               text  \\\n",
       "0      5  2016-10-11  Nice Find!\\n\\nWe just happened on this restaur...   \n",
       "1      4  2015-01-13  So customer service might not be the greatest ...   \n",
       "2      4  2014-05-29  Never knew about this coffee shop until they o...   \n",
       "3      4  2014-11-13  Came here the other day to get a 60-minute det...   \n",
       "4      5  2016-11-10  This place is a bit of an institution and I us...   \n",
       "\n",
       "   useful  \n",
       "0       0  \n",
       "1       2  \n",
       "2       0  \n",
       "3       7  \n",
       "4       0  "
      ]
     },
     "execution_count": 4,
     "metadata": {},
     "output_type": "execute_result"
    }
   ],
   "source": [
    "data.head()"
   ]
  },
  {
   "cell_type": "code",
   "execution_count": 5,
   "metadata": {},
   "outputs": [],
   "source": [
    "def assignPolarityToReviews(stars):\n",
    "    if stars > 3:\n",
    "        return 1\n",
    "    return 0"
   ]
  },
  {
   "cell_type": "code",
   "execution_count": 6,
   "metadata": {},
   "outputs": [],
   "source": [
    "starsColumn = data['stars']\n",
    "polarity = starsColumn.map(assignPolarityToReviews)\n",
    "data['polarity'] = polarity #1: Good | 0:Bad"
   ]
  },
  {
   "cell_type": "code",
   "execution_count": 7,
   "metadata": {},
   "outputs": [
    {
     "data": {
      "text/html": [
       "<div>\n",
       "<style scoped>\n",
       "    .dataframe tbody tr th:only-of-type {\n",
       "        vertical-align: middle;\n",
       "    }\n",
       "\n",
       "    .dataframe tbody tr th {\n",
       "        vertical-align: top;\n",
       "    }\n",
       "\n",
       "    .dataframe thead th {\n",
       "        text-align: right;\n",
       "    }\n",
       "</style>\n",
       "<table border=\"1\" class=\"dataframe\">\n",
       "  <thead>\n",
       "    <tr style=\"text-align: right;\">\n",
       "      <th></th>\n",
       "      <th>stars</th>\n",
       "      <th>date</th>\n",
       "      <th>text</th>\n",
       "      <th>useful</th>\n",
       "      <th>polarity</th>\n",
       "    </tr>\n",
       "  </thead>\n",
       "  <tbody>\n",
       "    <tr>\n",
       "      <th>0</th>\n",
       "      <td>1</td>\n",
       "      <td>2017-04-16</td>\n",
       "      <td>I always go to toms in mesa cause i work out t...</td>\n",
       "      <td>1</td>\n",
       "      <td>0</td>\n",
       "    </tr>\n",
       "    <tr>\n",
       "      <th>1</th>\n",
       "      <td>5</td>\n",
       "      <td>2015-04-28</td>\n",
       "      <td>great tacos. in my opinion better than Tacos e...</td>\n",
       "      <td>0</td>\n",
       "      <td>1</td>\n",
       "    </tr>\n",
       "    <tr>\n",
       "      <th>2</th>\n",
       "      <td>5</td>\n",
       "      <td>2009-10-12</td>\n",
       "      <td>Hands down my favorite sushi restaurant in Veg...</td>\n",
       "      <td>1</td>\n",
       "      <td>1</td>\n",
       "    </tr>\n",
       "    <tr>\n",
       "      <th>3</th>\n",
       "      <td>5</td>\n",
       "      <td>2017-07-02</td>\n",
       "      <td>This was a great find. The menu has a great se...</td>\n",
       "      <td>2</td>\n",
       "      <td>1</td>\n",
       "    </tr>\n",
       "    <tr>\n",
       "      <th>4</th>\n",
       "      <td>5</td>\n",
       "      <td>2015-01-18</td>\n",
       "      <td>Their macarons are soo unique compared to othe...</td>\n",
       "      <td>0</td>\n",
       "      <td>1</td>\n",
       "    </tr>\n",
       "  </tbody>\n",
       "</table>\n",
       "</div>"
      ],
      "text/plain": [
       "   stars        date                                               text  \\\n",
       "0      1  2017-04-16  I always go to toms in mesa cause i work out t...   \n",
       "1      5  2015-04-28  great tacos. in my opinion better than Tacos e...   \n",
       "2      5  2009-10-12  Hands down my favorite sushi restaurant in Veg...   \n",
       "3      5  2017-07-02  This was a great find. The menu has a great se...   \n",
       "4      5  2015-01-18  Their macarons are soo unique compared to othe...   \n",
       "\n",
       "   useful  polarity  \n",
       "0       1         0  \n",
       "1       0         1  \n",
       "2       1         1  \n",
       "3       2         1  \n",
       "4       0         1  "
      ]
     },
     "execution_count": 7,
     "metadata": {},
     "output_type": "execute_result"
    }
   ],
   "source": [
    "data = data.sample(frac=1).reset_index(drop=True)\n",
    "data.head()"
   ]
  },
  {
   "cell_type": "code",
   "execution_count": 8,
   "metadata": {},
   "outputs": [],
   "source": [
    "#Stopwords selection\n",
    "\n",
    "stopWords = set(stopwords.words('english'))\n",
    "\n",
    "wordsRequiredOfStopWords = ['not', 'nor', 'neither' , 'no']\n",
    "\n",
    "stopWords = stopWords.difference(wordsRequiredOfStopWords)"
   ]
  },
  {
   "cell_type": "code",
   "execution_count": 9,
   "metadata": {},
   "outputs": [],
   "source": [
    "\n",
    "def expandContractions(text):\n",
    "    words = text.split(' ')\n",
    "    expandedText = ''\n",
    "    for word in words:\n",
    "        if(word in contractions):\n",
    "            expandedText += contractions[word].split('/')[0] #Always considering 1st form of verb for list\n",
    "        else:\n",
    "            expandedText += word\n",
    "        expandedText += ' '\n",
    "    return expandedText\n",
    "\n",
    "def getNonStopWordsLowerCase(text):\n",
    "    textTokens = word_tokenize(text)\n",
    "    retText = ''\n",
    "    for w in textTokens:\n",
    "        w = w.lower()\n",
    "        if(w not in stopWords and len(w) > 1) :\n",
    "            retText += w + ' '\n",
    "            \n",
    "    return retText\n",
    "\n",
    "def textCleaning(text):\n",
    "    \n",
    "    #Remove Hyperlinks\n",
    "    # Regex: r'\\S+', # sequence of non-whitespace\n",
    "    text = re.sub(r'http\\S+', '', text)\n",
    "    \n",
    "    #Remove all tags\n",
    "    text = BeautifulSoup(text, 'html.parser').get_text()\n",
    "    \n",
    "    #Expand texts\n",
    "    text = expandContractions(text)\n",
    "    \n",
    "    #Remove all words containing numbers\n",
    "    #https://stackoverflow.com/questions/18082130/python-regex-to-remove-all-words-which-contains-number\n",
    "    text = ' '.join(s for s in text.split() if not any(c.isdigit() for c in s))\n",
    "    \n",
    "    #Remove special characters\n",
    "    text = re.sub('[^A-Za-z]+', ' ', text)\n",
    "    \n",
    "    #Get non stop words in lower case\n",
    "    text = getNonStopWordsLowerCase(text).strip()\n",
    "    \n",
    "    return text\n"
   ]
  },
  {
   "cell_type": "code",
   "execution_count": 15,
   "metadata": {},
   "outputs": [
    {
     "name": "stderr",
     "output_type": "stream",
     "text": [
      "100%|██████████████████████████████████████████████████████████████████████████| 50000/50000 [00:33<00:00, 1493.52it/s]\n"
     ]
    }
   ],
   "source": [
    "\n",
    "preprocessed_texts = []\n",
    "\n",
    "for text in tqdm(data['text'].values):\n",
    "    doneText = textCleaning(text)\n",
    "    #if(len(doneText) < 2):\n",
    "    #   continue\n",
    "    preprocessed_texts.append(doneText)\n"
   ]
  },
  {
   "cell_type": "code",
   "execution_count": 16,
   "metadata": {},
   "outputs": [],
   "source": [
    "#Sample prints\n",
    "\n",
    "def printPreprocessedTexts(idx):\n",
    "\n",
    "    print(\"Original Text:\\t\",data['text'][idx] , end='\\n\\n')\n",
    "    print(\"Preprocessed Text:\\t\",preprocessed_texts[idx], end='\\n\\n')\n",
    "\n",
    "    print(\"Polarity of the text: \", data['polarity'][idx])"
   ]
  },
  {
   "cell_type": "code",
   "execution_count": 17,
   "metadata": {
    "scrolled": true
   },
   "outputs": [
    {
     "name": "stdout",
     "output_type": "stream",
     "text": [
      "Original Text:\t I always go to toms in mesa cause i work out there and I love it!! Try this location cause i live on the west side and omfg!! They are out of tips,no potatoes, and out of fried pickles?!?!?!?!?  The bathroom stinks and it looks run down in here..also there is a sewage smell.. Never again very disappointed in this location. Never again!! I will continue to go to the mesa location. The lady at the desk didn't even give me my points for 5star!! Wtf!!!\n",
      "\n",
      "Preprocessed Text:\t always go toms mesa cause work love try location cause live west side omfg tips no potatoes fried pickles bathroom stinks looks run also sewage smell never disappointed location never continue go mesa location lady desk not even give points wtf\n",
      "\n",
      "Polarity of the text:  0\n"
     ]
    }
   ],
   "source": [
    "printPreprocessedTexts(0)"
   ]
  },
  {
   "cell_type": "code",
   "execution_count": 18,
   "metadata": {},
   "outputs": [
    {
     "name": "stdout",
     "output_type": "stream",
     "text": [
      "Original Text:\t great tacos. in my opinion better than Tacos el Gordo. great customer service friendly staff fast and delicious. i recomend the alambres feed 2-3 people\n",
      "\n",
      "Preprocessed Text:\t great tacos opinion better tacos el gordo great customer service friendly staff fast delicious recomend alambres feed people\n",
      "\n",
      "Polarity of the text:  1\n"
     ]
    }
   ],
   "source": [
    "printPreprocessedTexts(1)"
   ]
  },
  {
   "cell_type": "code",
   "execution_count": 19,
   "metadata": {},
   "outputs": [],
   "source": [
    "#Writing to CSV to avoid recomputation\n",
    "\n",
    "#colList = ['Review','Polarity','Useful']\n",
    "to_save = pd.DataFrame({'Review': preprocessed_texts, 'Polarity': data['polarity'], 'Useful':data['useful'] })\n",
    "to_save.to_csv('dataset/preprocessed.csv', index=False)"
   ]
  },
  {
   "cell_type": "code",
   "execution_count": null,
   "metadata": {},
   "outputs": [],
   "source": []
  }
 ],
 "metadata": {
  "kernelspec": {
   "display_name": "Python 3",
   "language": "python",
   "name": "python3"
  },
  "language_info": {
   "codemirror_mode": {
    "name": "ipython",
    "version": 3
   },
   "file_extension": ".py",
   "mimetype": "text/x-python",
   "name": "python",
   "nbconvert_exporter": "python",
   "pygments_lexer": "ipython3",
   "version": "3.7.3"
  }
 },
 "nbformat": 4,
 "nbformat_minor": 2
}
