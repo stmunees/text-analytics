{
 "cells": [
  {
   "cell_type": "code",
   "execution_count": 14,
   "metadata": {},
   "outputs": [],
   "source": [
    "import pandas as pd\n",
    "import numpy as np\n",
    "from contractions import contractions\n",
    "from nltk.corpus import stopwords\n",
    "from nltk.tokenize import word_tokenize\n",
    "from bs4 import BeautifulSoup\n",
    "import re\n",
    "from tqdm import tqdm\n",
    "from sklearn.feature_extraction.text import CountVectorizer #BoW"
   ]
  },
  {
   "cell_type": "code",
   "execution_count": 2,
   "metadata": {},
   "outputs": [],
   "source": [
    "def readAllDataAndMerge():\n",
    "    #data = pd.read_csv('dataset/avg_cleaned_25k_yelp.csv')\n",
    "    \n",
    "    data = pd.read_csv('dataset/pos_cleaned_25k_yelp.csv')\n",
    "    negReviews = pd.read_csv('dataset/neg_cleaned_25k_yelp.csv')\n",
    "    \n",
    "    data = data.append(negReviews, ignore_index = True) \n",
    "    return data"
   ]
  },
  {
   "cell_type": "code",
   "execution_count": 3,
   "metadata": {},
   "outputs": [],
   "source": [
    "data = readAllDataAndMerge()"
   ]
  },
  {
   "cell_type": "code",
   "execution_count": 4,
   "metadata": {
    "scrolled": true
   },
   "outputs": [
    {
     "data": {
      "text/html": [
       "<div>\n",
       "<style scoped>\n",
       "    .dataframe tbody tr th:only-of-type {\n",
       "        vertical-align: middle;\n",
       "    }\n",
       "\n",
       "    .dataframe tbody tr th {\n",
       "        vertical-align: top;\n",
       "    }\n",
       "\n",
       "    .dataframe thead th {\n",
       "        text-align: right;\n",
       "    }\n",
       "</style>\n",
       "<table border=\"1\" class=\"dataframe\">\n",
       "  <thead>\n",
       "    <tr style=\"text-align: right;\">\n",
       "      <th></th>\n",
       "      <th>stars</th>\n",
       "      <th>date</th>\n",
       "      <th>text</th>\n",
       "      <th>useful</th>\n",
       "    </tr>\n",
       "  </thead>\n",
       "  <tbody>\n",
       "    <tr>\n",
       "      <th>0</th>\n",
       "      <td>5</td>\n",
       "      <td>2016-10-11</td>\n",
       "      <td>Nice Find!\\n\\nWe just happened on this restaur...</td>\n",
       "      <td>0</td>\n",
       "    </tr>\n",
       "    <tr>\n",
       "      <th>1</th>\n",
       "      <td>4</td>\n",
       "      <td>2015-01-13</td>\n",
       "      <td>So customer service might not be the greatest ...</td>\n",
       "      <td>2</td>\n",
       "    </tr>\n",
       "    <tr>\n",
       "      <th>2</th>\n",
       "      <td>4</td>\n",
       "      <td>2014-05-29</td>\n",
       "      <td>Never knew about this coffee shop until they o...</td>\n",
       "      <td>0</td>\n",
       "    </tr>\n",
       "    <tr>\n",
       "      <th>3</th>\n",
       "      <td>4</td>\n",
       "      <td>2014-11-13</td>\n",
       "      <td>Came here the other day to get a 60-minute det...</td>\n",
       "      <td>7</td>\n",
       "    </tr>\n",
       "    <tr>\n",
       "      <th>4</th>\n",
       "      <td>5</td>\n",
       "      <td>2016-11-10</td>\n",
       "      <td>This place is a bit of an institution and I us...</td>\n",
       "      <td>0</td>\n",
       "    </tr>\n",
       "  </tbody>\n",
       "</table>\n",
       "</div>"
      ],
      "text/plain": [
       "   stars        date                                               text  \\\n",
       "0      5  2016-10-11  Nice Find!\\n\\nWe just happened on this restaur...   \n",
       "1      4  2015-01-13  So customer service might not be the greatest ...   \n",
       "2      4  2014-05-29  Never knew about this coffee shop until they o...   \n",
       "3      4  2014-11-13  Came here the other day to get a 60-minute det...   \n",
       "4      5  2016-11-10  This place is a bit of an institution and I us...   \n",
       "\n",
       "   useful  \n",
       "0       0  \n",
       "1       2  \n",
       "2       0  \n",
       "3       7  \n",
       "4       0  "
      ]
     },
     "execution_count": 4,
     "metadata": {},
     "output_type": "execute_result"
    }
   ],
   "source": [
    "data.head()"
   ]
  },
  {
   "cell_type": "code",
   "execution_count": 5,
   "metadata": {},
   "outputs": [],
   "source": [
    "def assignPolarityToReviews(stars):\n",
    "    if stars > 3:\n",
    "        return 1\n",
    "    return 0"
   ]
  },
  {
   "cell_type": "code",
   "execution_count": 11,
   "metadata": {},
   "outputs": [],
   "source": [
    "starsColumn = data['stars']\n",
    "polarity = starsColumn.map(assignPolarityToReviews)\n",
    "data['polarity'] = polarity #1: Good | 0:Bad"
   ]
  },
  {
   "cell_type": "code",
   "execution_count": 9,
   "metadata": {},
   "outputs": [
    {
     "data": {
      "text/html": [
       "<div>\n",
       "<style scoped>\n",
       "    .dataframe tbody tr th:only-of-type {\n",
       "        vertical-align: middle;\n",
       "    }\n",
       "\n",
       "    .dataframe tbody tr th {\n",
       "        vertical-align: top;\n",
       "    }\n",
       "\n",
       "    .dataframe thead th {\n",
       "        text-align: right;\n",
       "    }\n",
       "</style>\n",
       "<table border=\"1\" class=\"dataframe\">\n",
       "  <thead>\n",
       "    <tr style=\"text-align: right;\">\n",
       "      <th></th>\n",
       "      <th>stars</th>\n",
       "      <th>date</th>\n",
       "      <th>text</th>\n",
       "      <th>useful</th>\n",
       "      <th>polarity</th>\n",
       "    </tr>\n",
       "  </thead>\n",
       "  <tbody>\n",
       "    <tr>\n",
       "      <th>0</th>\n",
       "      <td>5</td>\n",
       "      <td>2016-09-24</td>\n",
       "      <td>The staff here make the process so easy. I was...</td>\n",
       "      <td>0</td>\n",
       "      <td>1</td>\n",
       "    </tr>\n",
       "    <tr>\n",
       "      <th>1</th>\n",
       "      <td>2</td>\n",
       "      <td>2017-11-13</td>\n",
       "      <td>This Fry's is very small and old and unfortuna...</td>\n",
       "      <td>0</td>\n",
       "      <td>0</td>\n",
       "    </tr>\n",
       "    <tr>\n",
       "      <th>2</th>\n",
       "      <td>5</td>\n",
       "      <td>2011-03-06</td>\n",
       "      <td>Just came back from this wonderful brunch plac...</td>\n",
       "      <td>2</td>\n",
       "      <td>1</td>\n",
       "    </tr>\n",
       "    <tr>\n",
       "      <th>3</th>\n",
       "      <td>2</td>\n",
       "      <td>2013-03-11</td>\n",
       "      <td>For a man that Yelps and relies on other Yelpe...</td>\n",
       "      <td>3</td>\n",
       "      <td>0</td>\n",
       "    </tr>\n",
       "    <tr>\n",
       "      <th>4</th>\n",
       "      <td>1</td>\n",
       "      <td>2015-05-25</td>\n",
       "      <td>This is nothing but a greedy money making scam...</td>\n",
       "      <td>0</td>\n",
       "      <td>0</td>\n",
       "    </tr>\n",
       "  </tbody>\n",
       "</table>\n",
       "</div>"
      ],
      "text/plain": [
       "   stars        date                                               text  \\\n",
       "0      5  2016-09-24  The staff here make the process so easy. I was...   \n",
       "1      2  2017-11-13  This Fry's is very small and old and unfortuna...   \n",
       "2      5  2011-03-06  Just came back from this wonderful brunch plac...   \n",
       "3      2  2013-03-11  For a man that Yelps and relies on other Yelpe...   \n",
       "4      1  2015-05-25  This is nothing but a greedy money making scam...   \n",
       "\n",
       "   useful  polarity  \n",
       "0       0         1  \n",
       "1       0         0  \n",
       "2       2         1  \n",
       "3       3         0  \n",
       "4       0         0  "
      ]
     },
     "execution_count": 9,
     "metadata": {},
     "output_type": "execute_result"
    }
   ],
   "source": [
    "data = data.sample(frac=1).reset_index(drop=True)\n",
    "data.head()"
   ]
  },
  {
   "cell_type": "code",
   "execution_count": 10,
   "metadata": {},
   "outputs": [],
   "source": [
    "#Stopwords selection\n",
    "\n",
    "stopWords = set(stopwords.words('english'))\n",
    "\n",
    "wordsRequiredOfStopWords = ['not', 'nor', 'neither' , 'no']\n",
    "\n",
    "stopWords = stopWords.difference(wordsRequiredOfStopWords)"
   ]
  },
  {
   "cell_type": "code",
   "execution_count": 12,
   "metadata": {},
   "outputs": [],
   "source": [
    "\n",
    "def expandContractions(text):\n",
    "    words = text.split(' ')\n",
    "    expandedText = ''\n",
    "    for word in words:\n",
    "        if(word in contractions):\n",
    "            expandedText += contractions[word].split('/')[0] #Always considering 1st form of verb for list\n",
    "        else:\n",
    "            expandedText += word\n",
    "        expandedText += ' '\n",
    "    return expandedText\n",
    "\n",
    "def getNonStopWordsLowerCase(text):\n",
    "    textTokens = word_tokenize(text)\n",
    "    retText = ''\n",
    "    for w in textTokens:\n",
    "        w = w.lower()\n",
    "        if(w not in stopWords and len(w) > 1) :\n",
    "            retText += w + ' '\n",
    "            \n",
    "    return retText\n",
    "\n",
    "def textCleaning(text):\n",
    "    \n",
    "    #Remove Hyperlinks\n",
    "    # Regex: r'\\S+', # sequence of non-whitespace\n",
    "    text = re.sub(r'http\\S+', '', text)\n",
    "    \n",
    "    #Remove all tags\n",
    "    text = BeautifulSoup(text, 'html.parser').get_text()\n",
    "    \n",
    "    #Expand texts\n",
    "    text = expandContractions(text)\n",
    "    \n",
    "    #Remove all words containing numbers\n",
    "    #https://stackoverflow.com/questions/18082130/python-regex-to-remove-all-words-which-contains-number\n",
    "    text = ' '.join(s for s in text.split() if not any(c.isdigit() for c in s))\n",
    "    \n",
    "    #Remove special characters\n",
    "    text = re.sub('[^A-Za-z]+', ' ', text)\n",
    "    \n",
    "    #Get non stop words in lower case\n",
    "    text = getNonStopWordsLowerCase(text).strip()\n",
    "    \n",
    "    return text\n"
   ]
  },
  {
   "cell_type": "code",
   "execution_count": 15,
   "metadata": {},
   "outputs": [
    {
     "name": "stderr",
     "output_type": "stream",
     "text": [
      "100%|███████████████████████████████████████████████████████████████████████████| 50000/50000 [01:41<00:00, 494.91it/s]\n"
     ]
    }
   ],
   "source": [
    "\n",
    "preprocessed_texts = []\n",
    "\n",
    "for text in tqdm(data['text'].values):\n",
    "    doneText = textCleaning(text)\n",
    "    if(len(doneText) < 2):\n",
    "        continue\n",
    "    preprocessed_texts.append(doneText)\n"
   ]
  },
  {
   "cell_type": "code",
   "execution_count": 24,
   "metadata": {},
   "outputs": [],
   "source": [
    "#Sample prints\n",
    "\n",
    "def printPreprocessedTexts(idx):\n",
    "\n",
    "    print(\"Original Text:\\t\",data['text'][idx] , end='\\n\\n')\n",
    "    print(\"Preprocessed Text:\\t\",preprocessed_texts[idx], end='\\n\\n')\n",
    "\n",
    "    print(\"Polarity of the text: \", data['polarity'][idx])"
   ]
  },
  {
   "cell_type": "code",
   "execution_count": 25,
   "metadata": {
    "scrolled": true
   },
   "outputs": [
    {
     "name": "stdout",
     "output_type": "stream",
     "text": [
      "Original Text:\t The staff here make the process so easy. I was welcomed with open arms and they are very helpful. They provided me a great service and an awesome rate. I would def recommend them for all insurance needs! Thanks Chester\n",
      "\n",
      "Preprocessed Text:\t staff make process easy welcomed open arms helpful provided great service awesome rate would def recommend insurance needs thanks chester\n",
      "\n",
      "Polarity of the text:  1\n"
     ]
    }
   ],
   "source": [
    "printPreprocessedTexts(0)"
   ]
  },
  {
   "cell_type": "code",
   "execution_count": 26,
   "metadata": {},
   "outputs": [
    {
     "name": "stdout",
     "output_type": "stream",
     "text": [
      "Original Text:\t This Fry's is very small and old and unfortunately, this store located in a not safe neighborhood. I had a food event yesterday, I saw some helpful associates and nice customers but my digital camera was stolen, I use it to take my event photo, I'm pretty upset.\n",
      "\n",
      "Preprocessed Text:\t fry small old unfortunately store located not safe neighborhood food event yesterday saw helpful associates nice customers digital camera stolen use take event photo pretty upset\n",
      "\n",
      "Polarity of the text:  0\n"
     ]
    }
   ],
   "source": [
    "printPreprocessedTexts(1)"
   ]
  },
  {
   "cell_type": "code",
   "execution_count": null,
   "metadata": {},
   "outputs": [],
   "source": []
  }
 ],
 "metadata": {
  "kernelspec": {
   "display_name": "Python 3",
   "language": "python",
   "name": "python3"
  },
  "language_info": {
   "codemirror_mode": {
    "name": "ipython",
    "version": 3
   },
   "file_extension": ".py",
   "mimetype": "text/x-python",
   "name": "python",
   "nbconvert_exporter": "python",
   "pygments_lexer": "ipython3",
   "version": "3.7.3"
  }
 },
 "nbformat": 4,
 "nbformat_minor": 2
}
