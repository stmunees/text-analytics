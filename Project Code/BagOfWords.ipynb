{
 "cells": [
  {
   "cell_type": "code",
   "execution_count": 32,
   "metadata": {},
   "outputs": [],
   "source": [
    "import pandas as pd\n",
    "import numpy as np\n",
    "from sklearn.feature_extraction.text import CountVectorizer\n",
    "from sklearn.feature_extraction.text import TfidfTransformer\n",
    "from sklearn.naive_bayes import MultinomialNB\n",
    "from sklearn.linear_model import SGDClassifier\n",
    "from sklearn.metrics import accuracy_score, confusion_matrix\n",
    "from sklearn.model_selection import train_test_split"
   ]
  },
  {
   "cell_type": "code",
   "execution_count": 2,
   "metadata": {},
   "outputs": [],
   "source": [
    "dataPos = pd.read_csv('dataset/pos_cleaned_25k_yelp.csv')\n",
    "dataNeg = pd.read_csv('dataset/neg_cleaned_25k_yelp.csv')\n",
    "dataAvg = pd.read_csv('dataset/avg_cleaned_25k_yelp.csv')\n",
    "dataTag = pd.read_csv('dataset/data_with_tags.csv')"
   ]
  },
  {
   "cell_type": "code",
   "execution_count": 3,
   "metadata": {},
   "outputs": [],
   "source": [
    "dataPos['label'] = (dataPos['useful'] > 0).astype(np.int64, copy = False)\n",
    "dataNeg['label'] = (dataNeg['useful'] > 0).astype(np.int64, copy = False)\n",
    "dataAvg['label'] = (dataAvg['useful'] > 0).astype(np.int64, copy = False)\n",
    "dataTag['label'] = (dataTag['Useful'] > 0).astype(np.int64, copy = False)"
   ]
  },
  {
   "cell_type": "code",
   "execution_count": null,
   "metadata": {},
   "outputs": [],
   "source": [
    "dataTag.head()"
   ]
  },
  {
   "cell_type": "code",
   "execution_count": null,
   "metadata": {},
   "outputs": [],
   "source": [
    "dataPos.head()"
   ]
  },
  {
   "cell_type": "code",
   "execution_count": null,
   "metadata": {},
   "outputs": [],
   "source": []
  },
  {
   "cell_type": "code",
   "execution_count": 4,
   "metadata": {},
   "outputs": [
    {
     "name": "stdout",
     "output_type": "stream",
     "text": [
      "useful positive reviews : 11161\n",
      "useful negative reviews : 14297\n",
      "useful average revires : 12313\n",
      "sum of individual useful : 37771\n",
      "sum of master:  37769\n"
     ]
    }
   ],
   "source": [
    "print(\"useful positive reviews :\",dataPos['label'].sum())\n",
    "print(\"useful negative reviews :\", dataNeg['label'].sum())\n",
    "print(\"useful average revires :\",dataAvg['label'].sum())\n",
    "print(\"sum of individual useful :\", dataPos['label'].sum() + dataNeg['label'].sum() + dataAvg['label'].sum() )\n",
    "print(\"sum of master: \",dataTag['label'].sum())"
   ]
  },
  {
   "cell_type": "markdown",
   "metadata": {},
   "source": [
    "need to investigate above discrepancy. Appears as though three reviews have been lost"
   ]
  },
  {
   "cell_type": "code",
   "execution_count": null,
   "metadata": {},
   "outputs": [],
   "source": [
    "review1 = dataPos['text'][1]\n",
    "review2 = dataPos['text'][2]\n",
    "review3 = dataPos['text'][3]"
   ]
  },
  {
   "cell_type": "code",
   "execution_count": null,
   "metadata": {},
   "outputs": [],
   "source": [
    "print(review1 + '\\n')\n",
    "print(review2 + '\\n')\n",
    "print(review3 + '\\n')"
   ]
  },
  {
   "cell_type": "markdown",
   "metadata": {},
   "source": [
    "## Bag of words"
   ]
  },
  {
   "cell_type": "code",
   "execution_count": 5,
   "metadata": {},
   "outputs": [
    {
     "name": "stdout",
     "output_type": "stream",
     "text": [
      "(25000, 44369)\n"
     ]
    }
   ],
   "source": [
    "count_vectPos = CountVectorizer()\n",
    "X_train_countsPos = count_vectPos.fit_transform(dataPos['text'])\n",
    "print(X_train_countsPos.shape)"
   ]
  },
  {
   "cell_type": "code",
   "execution_count": 6,
   "metadata": {},
   "outputs": [
    {
     "name": "stdout",
     "output_type": "stream",
     "text": [
      "(25000, 45940)\n"
     ]
    }
   ],
   "source": [
    "count_vectNeg = CountVectorizer()\n",
    "X_train_countsNeg = count_vectNeg.fit_transform(dataNeg['text'])\n",
    "print(X_train_countsNeg.shape)"
   ]
  },
  {
   "cell_type": "code",
   "execution_count": 7,
   "metadata": {},
   "outputs": [
    {
     "name": "stdout",
     "output_type": "stream",
     "text": [
      "(25000, 48904)\n"
     ]
    }
   ],
   "source": [
    "count_vectAvg = CountVectorizer()\n",
    "X_train_countsAvg = count_vectAvg.fit_transform(dataAvg['text'])\n",
    "print(X_train_countsAvg.shape)"
   ]
  },
  {
   "cell_type": "code",
   "execution_count": 8,
   "metadata": {},
   "outputs": [
    {
     "name": "stdout",
     "output_type": "stream",
     "text": [
      "(74997, 76137)\n"
     ]
    }
   ],
   "source": [
    "count_vectTag = CountVectorizer()\n",
    "X_train_countsTag = count_vectTag.fit_transform(dataTag['Review'])\n",
    "print(X_train_countsTag.shape)"
   ]
  },
  {
   "cell_type": "markdown",
   "metadata": {},
   "source": [
    "## tf"
   ]
  },
  {
   "cell_type": "code",
   "execution_count": 9,
   "metadata": {},
   "outputs": [
    {
     "name": "stdout",
     "output_type": "stream",
     "text": [
      "(25000, 44369)\n"
     ]
    }
   ],
   "source": [
    "tf_transformerPos = TfidfTransformer(use_idf=False).fit(X_train_countsPos)\n",
    "X_train_tfPos = tf_transformerPos.transform(X_train_countsPos)\n",
    "print(X_train_tfPos.shape)"
   ]
  },
  {
   "cell_type": "code",
   "execution_count": 10,
   "metadata": {},
   "outputs": [
    {
     "name": "stdout",
     "output_type": "stream",
     "text": [
      "(25000, 45940)\n"
     ]
    }
   ],
   "source": [
    "tf_transformerNeg = TfidfTransformer(use_idf=False).fit(X_train_countsNeg)\n",
    "X_train_tfNeg = tf_transformerNeg.transform(X_train_countsNeg)\n",
    "print(X_train_tfNeg.shape)"
   ]
  },
  {
   "cell_type": "code",
   "execution_count": 11,
   "metadata": {},
   "outputs": [
    {
     "name": "stdout",
     "output_type": "stream",
     "text": [
      "(25000, 48904)\n"
     ]
    }
   ],
   "source": [
    "tf_transformerAvg = TfidfTransformer(use_idf=False).fit(X_train_countsAvg)\n",
    "X_train_tfAvg = tf_transformerAvg.transform(X_train_countsAvg)\n",
    "print(X_train_tfAvg.shape)"
   ]
  },
  {
   "cell_type": "code",
   "execution_count": 12,
   "metadata": {},
   "outputs": [
    {
     "name": "stdout",
     "output_type": "stream",
     "text": [
      "(74997, 76137)\n"
     ]
    }
   ],
   "source": [
    "tf_transformerTag = TfidfTransformer(use_idf=False).fit(X_train_countsTag)\n",
    "X_train_tfTag = tf_transformerPos.transform(X_train_countsTag)\n",
    "print(X_train_tfTag.shape)"
   ]
  },
  {
   "cell_type": "markdown",
   "metadata": {},
   "source": [
    "## tf-idf"
   ]
  },
  {
   "cell_type": "code",
   "execution_count": 13,
   "metadata": {},
   "outputs": [
    {
     "name": "stdout",
     "output_type": "stream",
     "text": [
      "(25000, 44369)\n"
     ]
    }
   ],
   "source": [
    "tfidf_transformerPos = TfidfTransformer()\n",
    "X_train_tfidfPos = tfidf_transformerPos.fit_transform(X_train_countsPos)\n",
    "print(X_train_tfidfPos.shape)"
   ]
  },
  {
   "cell_type": "code",
   "execution_count": 14,
   "metadata": {},
   "outputs": [
    {
     "name": "stdout",
     "output_type": "stream",
     "text": [
      "(25000, 45940)\n"
     ]
    }
   ],
   "source": [
    "tfidf_transformerNeg = TfidfTransformer()\n",
    "X_train_tfidfNeg = tfidf_transformerNeg.fit_transform(X_train_countsNeg)\n",
    "print(X_train_tfidfNeg.shape)"
   ]
  },
  {
   "cell_type": "code",
   "execution_count": 15,
   "metadata": {},
   "outputs": [
    {
     "name": "stdout",
     "output_type": "stream",
     "text": [
      "(25000, 48904)\n"
     ]
    }
   ],
   "source": [
    "tfidf_transformerAvg = TfidfTransformer()\n",
    "X_train_tfidfAvg = tfidf_transformerAvg.fit_transform(X_train_countsAvg)\n",
    "print(X_train_tfidfAvg.shape)"
   ]
  },
  {
   "cell_type": "code",
   "execution_count": 16,
   "metadata": {},
   "outputs": [
    {
     "name": "stdout",
     "output_type": "stream",
     "text": [
      "(74997, 76137)\n"
     ]
    }
   ],
   "source": [
    "tfidf_transformerTag = TfidfTransformer()\n",
    "X_train_tfidfTag = tfidf_transformerTag.fit_transform(X_train_countsTag)\n",
    "print(X_train_tfidfTag.shape)"
   ]
  },
  {
   "cell_type": "markdown",
   "metadata": {},
   "source": [
    "## models"
   ]
  },
  {
   "cell_type": "code",
   "execution_count": null,
   "metadata": {},
   "outputs": [],
   "source": [
    "clf = MultinomialNB().fit(X_train_tfidf, dataTag['label'])"
   ]
  },
  {
   "cell_type": "code",
   "execution_count": 17,
   "metadata": {},
   "outputs": [],
   "source": [
    "clfPos = SGDClassifier(loss='hinge', penalty='l2', alpha=1e-3, random_state=42, max_iter=5, tol=None).fit(X_train_tfidfPos, dataPos['label'])"
   ]
  },
  {
   "cell_type": "code",
   "execution_count": 18,
   "metadata": {},
   "outputs": [],
   "source": [
    "clfNeg = SGDClassifier(loss='hinge', penalty='l2', alpha=1e-3, random_state=42, max_iter=5, tol=None).fit(X_train_tfidfNeg, dataNeg['label'])"
   ]
  },
  {
   "cell_type": "code",
   "execution_count": 19,
   "metadata": {},
   "outputs": [],
   "source": [
    "clfAvg = SGDClassifier(loss='hinge', penalty='l2', alpha=1e-3, random_state=42, max_iter=5, tol=None).fit(X_train_tfidfAvg, dataAvg['label'])"
   ]
  },
  {
   "cell_type": "code",
   "execution_count": 20,
   "metadata": {},
   "outputs": [],
   "source": [
    "clfTag = SGDClassifier(loss='hinge', penalty='l2', alpha=1e-3, random_state=42, max_iter=5, tol=None).fit(X_train_tfidfTag, dataTag['label'])"
   ]
  },
  {
   "cell_type": "markdown",
   "metadata": {},
   "source": [
    "## predicitons\n"
   ]
  },
  {
   "cell_type": "code",
   "execution_count": 21,
   "metadata": {},
   "outputs": [],
   "source": [
    "train_predictionsPos = clfPos.predict(X_train_tfidfPos)\n",
    "train_predictionsNeg = clfNeg.predict(X_train_tfidfNeg)\n",
    "train_predictionsAvg = clfAvg.predict(X_train_tfidfAvg)\n",
    "train_predictionsTag = clfTag.predict(X_train_tfidfTag)"
   ]
  },
  {
   "cell_type": "markdown",
   "metadata": {},
   "source": [
    "## accuracy"
   ]
  },
  {
   "cell_type": "code",
   "execution_count": 22,
   "metadata": {},
   "outputs": [],
   "source": [
    "accuracyPos = accuracy_score(dataPos['label'], train_predictionsPos)\n",
    "accuracyNeg = accuracy_score(dataNeg['label'], train_predictionsNeg)\n",
    "accuracyAvg = accuracy_score(dataAvg['label'], train_predictionsAvg)\n",
    "accuracyTag = accuracy_score(dataTag['label'], train_predictionsTag)"
   ]
  },
  {
   "cell_type": "code",
   "execution_count": 23,
   "metadata": {},
   "outputs": [
    {
     "name": "stdout",
     "output_type": "stream",
     "text": [
      "positive accuracy is : 0.6454\n",
      "nagative accuracy is : 0.57744\n",
      "average accuracy is : 0.63692\n",
      "tag accuracy is : 0.6182113951224716\n"
     ]
    }
   ],
   "source": [
    "print(\"positive accuracy is :\", accuracyPos)\n",
    "print(\"nagative accuracy is :\", accuracyNeg)\n",
    "print(\"average accuracy is :\", accuracyAvg)\n",
    "print(\"tag accuracy is :\", accuracyTag)"
   ]
  },
  {
   "cell_type": "markdown",
   "metadata": {},
   "source": [
    "## confusion matrix"
   ]
  },
  {
   "cell_type": "markdown",
   "metadata": {},
   "source": [
    "#top row is useless\n",
    "#bottom row is useful\n",
    "<br>   0 1\n",
    "<br>0 TN FP\n",
    "<br>1 FN TP"
   ]
  },
  {
   "cell_type": "code",
   "execution_count": 24,
   "metadata": {},
   "outputs": [
    {
     "name": "stdout",
     "output_type": "stream",
     "text": [
      "[[12024  1815]\n",
      " [ 7050  4111]]\n",
      "[[0.86884891 0.13115109]\n",
      " [0.63166383 0.36833617]]\n"
     ]
    }
   ],
   "source": [
    "confusionMatrixPos = confusion_matrix(dataPos['label'], train_predictionsPos, labels=None, sample_weight=None, normalize=None)\n",
    "confusionMatrixNormPos = confusion_matrix(dataPos['label'], train_predictionsPos, labels=None, sample_weight=None, normalize='true')\n",
    "print(confusionMatrixPos)\n",
    "print(confusionMatrixNormPos)"
   ]
  },
  {
   "cell_type": "code",
   "execution_count": 25,
   "metadata": {},
   "outputs": [
    {
     "name": "stdout",
     "output_type": "stream",
     "text": [
      "[[  187 10516]\n",
      " [   48 14249]]\n",
      "[[0.01747174 0.98252826]\n",
      " [0.00335735 0.99664265]]\n"
     ]
    }
   ],
   "source": [
    "confusionMatrixNeg = confusion_matrix(dataNeg['label'], train_predictionsNeg, labels=None, sample_weight=None, normalize=None)\n",
    "confusionMatrixNormNeg = confusion_matrix(dataNeg['label'], train_predictionsNeg, labels=None, sample_weight=None, normalize='true')\n",
    "print(confusionMatrixNeg)\n",
    "print(confusionMatrixNormNeg)"
   ]
  },
  {
   "cell_type": "code",
   "execution_count": 26,
   "metadata": {},
   "outputs": [
    {
     "name": "stdout",
     "output_type": "stream",
     "text": [
      "[[8164 4523]\n",
      " [4554 7759]]\n",
      "[[0.64349334 0.35650666]\n",
      " [0.369853   0.630147  ]]\n"
     ]
    }
   ],
   "source": [
    "confusionMatrixAvg = confusion_matrix(dataAvg['label'], train_predictionsAvg, labels=None, sample_weight=None, normalize=None)\n",
    "confusionMatrixNormAvg = confusion_matrix(dataAvg['label'], train_predictionsAvg, labels=None, sample_weight=None, normalize='true')\n",
    "print(confusionMatrixAvg)\n",
    "print(confusionMatrixNormAvg)"
   ]
  },
  {
   "cell_type": "code",
   "execution_count": 27,
   "metadata": {},
   "outputs": [
    {
     "name": "stdout",
     "output_type": "stream",
     "text": [
      "[[22174 15054]\n",
      " [13579 24190]]\n",
      "[[0.59562695 0.40437305]\n",
      " [0.35952765 0.64047235]]\n"
     ]
    }
   ],
   "source": [
    "confusionMatrixTag = confusion_matrix(dataTag['label'], train_predictionsTag, labels=None, sample_weight=None, normalize=None)\n",
    "confusionMatrixNormTag = confusion_matrix(dataTag['label'], train_predictionsTag, labels=None, sample_weight=None, normalize='true')\n",
    "print(confusionMatrixTag)\n",
    "print(confusionMatrixNormTag)"
   ]
  },
  {
   "cell_type": "code",
   "execution_count": null,
   "metadata": {},
   "outputs": [],
   "source": []
  },
  {
   "cell_type": "markdown",
   "metadata": {},
   "source": [
    "## split into test and training"
   ]
  },
  {
   "cell_type": "code",
   "execution_count": 35,
   "metadata": {},
   "outputs": [],
   "source": [
    "def split_data(dataFrame, test_size = 0.1, random_state = 42):\n",
    "    train_set, test_set = train_test_split(dataFrame, test_size = test_size, random_state = random_state)\n",
    "    \n",
    "    mtrain, ntrain = train_set.shape\n",
    "    mtest, ntest = test_set.shape\n",
    "    \n",
    "    print('Number of instances in training set: %d\\nNumber of instances in test set: %d\\n' %(mtrain, mtest))\n",
    "\n",
    "    return train_set, test_set"
   ]
  },
  {
   "cell_type": "code",
   "execution_count": 47,
   "metadata": {},
   "outputs": [
    {
     "name": "stdout",
     "output_type": "stream",
     "text": [
      "Number of instances in training set: 22500\n",
      "Number of instances in test set: 2500\n",
      "\n"
     ]
    }
   ],
   "source": [
    "trainAVG, testAVG = split_data(dataAvg)"
   ]
  },
  {
   "cell_type": "code",
   "execution_count": 49,
   "metadata": {},
   "outputs": [
    {
     "name": "stdout",
     "output_type": "stream",
     "text": [
      "(22500, 46478)\n"
     ]
    }
   ],
   "source": [
    "count_vectAvg2 = CountVectorizer()\n",
    "X_train_countsAvg2 = count_vectAvg2.fit_transform(trainAVG['text'])\n",
    "print(X_train_countsAvg2.shape)"
   ]
  },
  {
   "cell_type": "code",
   "execution_count": 51,
   "metadata": {},
   "outputs": [
    {
     "name": "stdout",
     "output_type": "stream",
     "text": [
      "(22500, 46478)\n"
     ]
    }
   ],
   "source": [
    "tf_transformerAvg2 = TfidfTransformer(use_idf=False).fit(X_train_countsAvg2)\n",
    "X_train_tfAvg2 = tf_transformerAvg2.transform(X_train_countsAvg2)\n",
    "print(X_train_tfAvg2.shape)"
   ]
  },
  {
   "cell_type": "code",
   "execution_count": 54,
   "metadata": {},
   "outputs": [
    {
     "name": "stdout",
     "output_type": "stream",
     "text": [
      "(22500, 46478)\n"
     ]
    }
   ],
   "source": [
    "tfidf_transformerAvg2 = TfidfTransformer().fit(X_train_countsAvg2)\n",
    "X_train_tfidfAvg2 = tfidf_transformerAvg2.transform(X_train_countsAvg2)\n",
    "print(X_train_tfidfAvg2.shape)"
   ]
  },
  {
   "cell_type": "code",
   "execution_count": 56,
   "metadata": {},
   "outputs": [],
   "source": [
    "clfAvg2 = SGDClassifier(loss='hinge', penalty='l2', alpha=1e-3, random_state=42, max_iter=5, tol=None).fit(X_train_tfidfAvg2, trainAVG['label'])"
   ]
  },
  {
   "cell_type": "code",
   "execution_count": 57,
   "metadata": {},
   "outputs": [],
   "source": [
    "train_predictionsAvg2 = clfAvg2.predict(X_train_tfidfAvg2)"
   ]
  },
  {
   "cell_type": "code",
   "execution_count": 59,
   "metadata": {},
   "outputs": [
    {
     "name": "stdout",
     "output_type": "stream",
     "text": [
      "average accuracy is : 0.6368444444444444\n"
     ]
    }
   ],
   "source": [
    "accuracyAvg2 = accuracy_score(trainAVG['label'], train_predictionsAvg2)\n",
    "print(\"average accuracy is :\", accuracyAvg2)"
   ]
  },
  {
   "cell_type": "code",
   "execution_count": 60,
   "metadata": {},
   "outputs": [
    {
     "name": "stdout",
     "output_type": "stream",
     "text": [
      "[[7174 4247]\n",
      " [3924 7155]]\n",
      "[[0.62814114 0.37185886]\n",
      " [0.35418359 0.64581641]]\n"
     ]
    }
   ],
   "source": [
    "confusionMatrixAvg2 = confusion_matrix(trainAVG['label'], train_predictionsAvg2, labels=None, sample_weight=None, normalize=None)\n",
    "confusionMatrixNormAvg2 = confusion_matrix(trainAVG['label'], train_predictionsAvg2, labels=None, sample_weight=None, normalize='true')\n",
    "print(confusionMatrixAvg2)\n",
    "print(confusionMatrixNormAvg2)"
   ]
  },
  {
   "cell_type": "markdown",
   "metadata": {},
   "source": [
    "## test"
   ]
  },
  {
   "cell_type": "code",
   "execution_count": 62,
   "metadata": {},
   "outputs": [
    {
     "name": "stdout",
     "output_type": "stream",
     "text": [
      "(2500, 46478)\n"
     ]
    }
   ],
   "source": [
    "X_test_countsAvg2 = count_vectAvg2.transform(testAVG['text'])\n",
    "print(X_test_countsAvg2.shape)"
   ]
  },
  {
   "cell_type": "code",
   "execution_count": 63,
   "metadata": {},
   "outputs": [
    {
     "name": "stdout",
     "output_type": "stream",
     "text": [
      "(2500, 46478)\n"
     ]
    }
   ],
   "source": [
    "X_test_tfidfAvg2 = tfidf_transformerAvg2.transform(X_test_countsAvg2)\n",
    "print(X_test_tfidfAvg2.shape)"
   ]
  },
  {
   "cell_type": "code",
   "execution_count": 64,
   "metadata": {},
   "outputs": [],
   "source": [
    "test_predictionsAvg = clfAvg2.predict(X_test_tfidfAvg2)"
   ]
  },
  {
   "cell_type": "code",
   "execution_count": 66,
   "metadata": {},
   "outputs": [
    {
     "name": "stdout",
     "output_type": "stream",
     "text": [
      "average accuracy is : 0.6264\n"
     ]
    }
   ],
   "source": [
    "testaccuracyAvg2 = accuracy_score(testAVG['label'], test_predictionsAvg)\n",
    "print(\"average accuracy is :\", testaccuracyAvg2)"
   ]
  },
  {
   "cell_type": "code",
   "execution_count": 67,
   "metadata": {},
   "outputs": [
    {
     "name": "stdout",
     "output_type": "stream",
     "text": [
      "[[766 500]\n",
      " [434 800]]\n",
      "[[0.60505529 0.39494471]\n",
      " [0.35170178 0.64829822]]\n"
     ]
    }
   ],
   "source": [
    "testconfusionMatrixAvg2 = confusion_matrix(testAVG['label'], test_predictionsAvg, labels=None, sample_weight=None, normalize=None)\n",
    "testconfusionMatrixNormAvg2 = confusion_matrix(testAVG['label'], test_predictionsAvg, labels=None, sample_weight=None, normalize='true')\n",
    "print(testconfusionMatrixAvg2)\n",
    "print(testconfusionMatrixNormAvg2)"
   ]
  },
  {
   "cell_type": "code",
   "execution_count": null,
   "metadata": {},
   "outputs": [],
   "source": []
  }
 ],
 "metadata": {
  "kernelspec": {
   "display_name": "Python 3",
   "language": "python",
   "name": "python3"
  },
  "language_info": {
   "codemirror_mode": {
    "name": "ipython",
    "version": 3
   },
   "file_extension": ".py",
   "mimetype": "text/x-python",
   "name": "python",
   "nbconvert_exporter": "python",
   "pygments_lexer": "ipython3",
   "version": "3.6.10"
  }
 },
 "nbformat": 4,
 "nbformat_minor": 4
}
