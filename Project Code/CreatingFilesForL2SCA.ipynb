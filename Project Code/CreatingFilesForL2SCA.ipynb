{
 "cells": [
  {
   "cell_type": "markdown",
   "metadata": {},
   "source": [
    "# Positive Reviews"
   ]
  },
  {
   "cell_type": "code",
   "execution_count": 1,
   "metadata": {},
   "outputs": [
    {
     "name": "stdout",
     "output_type": "stream",
     "text": [
      "       stars        date                                               text  \\\n",
      "0          5  2016-10-11  Nice Find!\\n\\nWe just happened on this restaur...   \n",
      "1          4  2015-01-13  So customer service might not be the greatest ...   \n",
      "2          4  2014-05-29  Never knew about this coffee shop until they o...   \n",
      "3          4  2014-11-13  Came here the other day to get a 60-minute det...   \n",
      "4          5  2016-11-10  This place is a bit of an institution and I us...   \n",
      "...      ...         ...                                                ...   \n",
      "24995      4  2015-12-28  One of the nicer airports I have seen. Upon my...   \n",
      "24996      4  2015-03-09  Went there on a Sunday evening after a day of ...   \n",
      "24997      5  2015-06-24  Porters is fantastic. We wanted an entire wall...   \n",
      "24998      5  2013-06-19  The cannoli here is the best I've ever had, an...   \n",
      "24999      4  2016-02-16  Awesome food, for decent price. Went with my w...   \n",
      "\n",
      "       useful  \n",
      "0           0  \n",
      "1           2  \n",
      "2           0  \n",
      "3           7  \n",
      "4           0  \n",
      "...       ...  \n",
      "24995       4  \n",
      "24996       2  \n",
      "24997       0  \n",
      "24998       0  \n",
      "24999       0  \n",
      "\n",
      "[25000 rows x 4 columns]\n"
     ]
    }
   ],
   "source": [
    "import pandas as pd\n",
    "\n",
    "df = pd.read_csv ('/Users/aparnaghosh23/Desktop/MS_Trinity/Text Analytics/Syntactic Complexity/pos_cleaned_25k_yelp.csv')\n",
    "print (df)"
   ]
  },
  {
   "cell_type": "code",
   "execution_count": 2,
   "metadata": {},
   "outputs": [
    {
     "data": {
      "text/plain": [
       "0        Nice Find!\\n\\nWe just happened on this restaur...\n",
       "1        So customer service might not be the greatest ...\n",
       "2        Never knew about this coffee shop until they o...\n",
       "3        Came here the other day to get a 60-minute det...\n",
       "4        This place is a bit of an institution and I us...\n",
       "                               ...                        \n",
       "24995    One of the nicer airports I have seen. Upon my...\n",
       "24996    Went there on a Sunday evening after a day of ...\n",
       "24997    Porters is fantastic. We wanted an entire wall...\n",
       "24998    The cannoli here is the best I've ever had, an...\n",
       "24999    Awesome food, for decent price. Went with my w...\n",
       "Name: text, Length: 25000, dtype: object"
      ]
     },
     "execution_count": 2,
     "metadata": {},
     "output_type": "execute_result"
    }
   ],
   "source": [
    "df.text"
   ]
  },
  {
   "cell_type": "code",
   "execution_count": 6,
   "metadata": {},
   "outputs": [],
   "source": [
    "import os\n",
    "os.makedirs(\"/Users/aparnaghosh23/Desktop/MS_Trinity/Text Analytics/Syntactic Complexity/L2SCA-2016-06-30/TESTSET1\")"
   ]
  },
  {
   "cell_type": "code",
   "execution_count": 9,
   "metadata": {},
   "outputs": [
    {
     "data": {
      "text/plain": [
       "\"Nice Find!\\n\\nWe just happened on this restaurant during the lunch hour while taking a walk (far off the strip near our hotel). It has a Jamaican theme to most of its dishes. I had coconut shrimp that was to die for (though only four, needed at least two more) and the house salad with the house dressing (very fancy, delicious salad). My companion had a jerk chicken sandwich and soup (can't remember what kind) he said was good. Lovely atmosphere (played island music) and nice wait staff. Lots of rum specialty drinks in the offerings, but since it was 90 degrees and we had to walk a bit, we didn't indulge. I'd go back for sure!\""
      ]
     },
     "execution_count": 9,
     "metadata": {},
     "output_type": "execute_result"
    }
   ],
   "source": [
    "file1 = df.text[0]\n",
    "file1"
   ]
  },
  {
   "cell_type": "code",
   "execution_count": 15,
   "metadata": {},
   "outputs": [
    {
     "data": {
      "text/plain": [
       "<function TextIOWrapper.close()>"
      ]
     },
     "execution_count": 15,
     "metadata": {},
     "output_type": "execute_result"
    }
   ],
   "source": [
    "my_file = open(\"/Users/aparnaghosh23/Desktop/MS_Trinity/Text Analytics/Syntactic Complexity/L2SCA-2016-06-30/TESTSET1/this_is_file.txt\",\"w+\")\n",
    "my_file.write(file1)\n",
    "my_file.close"
   ]
  },
  {
   "cell_type": "code",
   "execution_count": 21,
   "metadata": {},
   "outputs": [],
   "source": [
    "c=0\n",
    "import os\n",
    "os.makedirs(\"/Users/aparnaghosh23/Desktop/MS_Trinity/Text Analytics/Syntactic Complexity/L2SCA-2016-06-30/POSSET1\")\n",
    "for a in df.text:\n",
    "    filename = \"File\"+ str(c)+\".txt\"\n",
    "    c = c + 1\n",
    "    my_file = open(os.path.join(\"/Users/aparnaghosh23/Desktop/MS_Trinity/Text Analytics/Syntactic Complexity/L2SCA-2016-06-30/POSSET1/\",filename)\n",
    "\n",
    ",\"w+\")\n",
    "    my_file.write(a)\n",
    "    my_file.close"
   ]
  },
  {
   "cell_type": "markdown",
   "metadata": {},
   "source": [
    "# Negative Reviews"
   ]
  },
  {
   "cell_type": "code",
   "execution_count": 22,
   "metadata": {},
   "outputs": [
    {
     "name": "stdout",
     "output_type": "stream",
     "text": [
      "       stars        date                                               text  \\\n",
      "0          2  2014-02-25  MCI is a bad place to seek medical attention. ...   \n",
      "1          1  2014-02-03  Carls air conditioning left my family in the c...   \n",
      "2          2  2015-05-28  I am not sure anyone will take my review serio...   \n",
      "3          2  2011-07-08  The service is always slow and the ice cream i...   \n",
      "4          1  2014-05-17  RIP OFF!!  Took a pair of my shoes in for sole...   \n",
      "...      ...         ...                                                ...   \n",
      "24995      1  2016-12-20  DO NOT FLY THIS AIRLINE!! Started with tons of...   \n",
      "24996      2  2014-04-11  Is Second Cup about coffee?\\n\\nHubby & I are o...   \n",
      "24997      1  2016-12-15  After being seated we waited close to 15 minut...   \n",
      "24998      1  2016-01-22  This place is the worst! We sat waiting to get...   \n",
      "24999      1  2016-12-17  Ate here last week, and it was one of the wors...   \n",
      "\n",
      "       useful  \n",
      "0           4  \n",
      "1           4  \n",
      "2           3  \n",
      "3           0  \n",
      "4           1  \n",
      "...       ...  \n",
      "24995       0  \n",
      "24996       1  \n",
      "24997       1  \n",
      "24998       0  \n",
      "24999       3  \n",
      "\n",
      "[25000 rows x 4 columns]\n"
     ]
    }
   ],
   "source": [
    "import pandas as pd\n",
    "\n",
    "dfneg = pd.read_csv ('/Users/aparnaghosh23/Desktop/MS_Trinity/Text Analytics/Syntactic Complexity/neg_cleaned_25k_yelp.csv')\n",
    "print (dfneg)"
   ]
  },
  {
   "cell_type": "code",
   "execution_count": 23,
   "metadata": {},
   "outputs": [],
   "source": [
    "c=0\n",
    "import os\n",
    "os.makedirs(\"/Users/aparnaghosh23/Desktop/MS_Trinity/Text Analytics/Syntactic Complexity/L2SCA-2016-06-30/NEGSET1\")\n",
    "for a in df.text:\n",
    "    filename = \"File\"+ str(c)+\".txt\"\n",
    "    c = c + 1\n",
    "    my_file = open(os.path.join(\"/Users/aparnaghosh23/Desktop/MS_Trinity/Text Analytics/Syntactic Complexity/L2SCA-2016-06-30/NEGSET1/\",filename)\n",
    "\n",
    ",\"w+\")\n",
    "    my_file.write(a)\n",
    "    my_file.close"
   ]
  },
  {
   "cell_type": "markdown",
   "metadata": {},
   "source": [
    "# Average Reviews"
   ]
  },
  {
   "cell_type": "code",
   "execution_count": 24,
   "metadata": {},
   "outputs": [
    {
     "name": "stdout",
     "output_type": "stream",
     "text": [
      "       stars        date                                               text  \\\n",
      "0          3  2015-06-18  Very expensive. All I had was drinks. They are...   \n",
      "1          3  2017-08-04  Summary: a very nice congee restaurant that is...   \n",
      "2          3  2015-08-13  Coffee was good, people were nice, but a coffe...   \n",
      "3          3  2012-08-06  My husband got the shrimp and I got the crabet...   \n",
      "4          3  2015-06-19  I was really looking forward to trying sidecar...   \n",
      "...      ...         ...                                                ...   \n",
      "24995      3  2011-06-12  Honestly , I've tasted better in the area. We ...   \n",
      "24996      3  2017-05-22  I'm surprised by the mediocre reviews for Reds...   \n",
      "24997      3  2015-02-12  Late at night service is slow even without bei...   \n",
      "24998      3  2015-10-10  This is a bit of a throwback from about 6 mont...   \n",
      "24999      3  2009-09-24  Nice addition to the club scene in charlotte. ...   \n",
      "\n",
      "       useful  \n",
      "0           0  \n",
      "1           0  \n",
      "2           0  \n",
      "3           4  \n",
      "4           2  \n",
      "...       ...  \n",
      "24995       2  \n",
      "24996       0  \n",
      "24997       0  \n",
      "24998       3  \n",
      "24999       1  \n",
      "\n",
      "[25000 rows x 4 columns]\n"
     ]
    }
   ],
   "source": [
    "import pandas as pd\n",
    "\n",
    "dfavg = pd.read_csv ('/Users/aparnaghosh23/Desktop/MS_Trinity/Text Analytics/Syntactic Complexity/avg_cleaned_25k_yelp.csv')\n",
    "print (dfavg)"
   ]
  },
  {
   "cell_type": "code",
   "execution_count": 25,
   "metadata": {},
   "outputs": [],
   "source": [
    "c=0\n",
    "import os\n",
    "os.makedirs(\"/Users/aparnaghosh23/Desktop/MS_Trinity/Text Analytics/Syntactic Complexity/L2SCA-2016-06-30/AVGSET1\")\n",
    "for a in df.text:\n",
    "    filename = \"File\"+ str(c)+\".txt\"\n",
    "    c = c + 1\n",
    "    my_file = open(os.path.join(\"/Users/aparnaghosh23/Desktop/MS_Trinity/Text Analytics/Syntactic Complexity/L2SCA-2016-06-30/AVGSET1/\",filename)\n",
    "\n",
    ",\"w+\")\n",
    "    my_file.write(a)\n",
    "    my_file.close"
   ]
  },
  {
   "cell_type": "code",
   "execution_count": null,
   "metadata": {},
   "outputs": [],
   "source": []
  }
 ],
 "metadata": {
  "kernelspec": {
   "display_name": "Python 3",
   "language": "python",
   "name": "python3"
  },
  "language_info": {
   "codemirror_mode": {
    "name": "ipython",
    "version": 3
   },
   "file_extension": ".py",
   "mimetype": "text/x-python",
   "name": "python",
   "nbconvert_exporter": "python",
   "pygments_lexer": "ipython3",
   "version": "3.7.3"
  }
 },
 "nbformat": 4,
 "nbformat_minor": 2
}
