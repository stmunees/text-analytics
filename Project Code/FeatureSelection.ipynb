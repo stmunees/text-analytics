{
 "cells": [
  {
   "cell_type": "code",
   "execution_count": 1,
   "metadata": {},
   "outputs": [],
   "source": [
    "import pandas as pd\n",
    "import numpy as np\n",
    "import matplotlib.pyplot as plt\n",
    "import seaborn as sns\n",
    "from textblob import TextBlob \n",
    "from tqdm import tqdm\n",
    "\n",
    "#sns.set(style=\"darkgrid\")\n"
   ]
  },
  {
   "cell_type": "code",
   "execution_count": 2,
   "metadata": {},
   "outputs": [],
   "source": [
    "data = pd.read_csv('dataset/preprocessed.csv')\n",
    "#pipreqs /path/to/project"
   ]
  },
  {
   "cell_type": "code",
   "execution_count": 3,
   "metadata": {
    "scrolled": true
   },
   "outputs": [
    {
     "name": "stdout",
     "output_type": "stream",
     "text": [
      "<class 'pandas.core.frame.DataFrame'>\n",
      "RangeIndex: 526168 entries, 0 to 526167\n",
      "Data columns (total 3 columns):\n",
      "Review      526121 non-null object\n",
      "Polarity    526168 non-null int64\n",
      "Useful      526168 non-null int64\n",
      "dtypes: int64(2), object(1)\n",
      "memory usage: 12.0+ MB\n"
     ]
    }
   ],
   "source": [
    "data.info() #Fix the size difference: 2 NaN"
   ]
  },
  {
   "cell_type": "code",
   "execution_count": 4,
   "metadata": {
    "scrolled": true
   },
   "outputs": [
    {
     "data": {
      "text/plain": [
       "Review       True\n",
       "Polarity    False\n",
       "Useful      False\n",
       "dtype: bool"
      ]
     },
     "execution_count": 4,
     "metadata": {},
     "output_type": "execute_result"
    }
   ],
   "source": [
    "data.isna().any()"
   ]
  },
  {
   "cell_type": "code",
   "execution_count": 5,
   "metadata": {},
   "outputs": [],
   "source": [
    "data = data[data['Review'].notna()]"
   ]
  },
  {
   "cell_type": "code",
   "execution_count": 7,
   "metadata": {},
   "outputs": [],
   "source": [
    "#Adding length of clean review \n",
    "\n",
    "reviewLen = data.apply(lambda row: len(row.Review), axis = 1)\n",
    "data['ReviewLength'] = reviewLen"
   ]
  },
  {
   "cell_type": "code",
   "execution_count": 8,
   "metadata": {},
   "outputs": [
    {
     "data": {
      "text/html": [
       "<div>\n",
       "<style scoped>\n",
       "    .dataframe tbody tr th:only-of-type {\n",
       "        vertical-align: middle;\n",
       "    }\n",
       "\n",
       "    .dataframe tbody tr th {\n",
       "        vertical-align: top;\n",
       "    }\n",
       "\n",
       "    .dataframe thead th {\n",
       "        text-align: right;\n",
       "    }\n",
       "</style>\n",
       "<table border=\"1\" class=\"dataframe\">\n",
       "  <thead>\n",
       "    <tr style=\"text-align: right;\">\n",
       "      <th></th>\n",
       "      <th>Review</th>\n",
       "      <th>Polarity</th>\n",
       "      <th>Useful</th>\n",
       "      <th>ReviewLength</th>\n",
       "    </tr>\n",
       "  </thead>\n",
       "  <tbody>\n",
       "    <tr>\n",
       "      <th>0</th>\n",
       "      <td>tai stylist carol hair make wedding absolutely...</td>\n",
       "      <td>1</td>\n",
       "      <td>3</td>\n",
       "      <td>277</td>\n",
       "    </tr>\n",
       "    <tr>\n",
       "      <th>1</th>\n",
       "      <td>highly recommend sara looking great talented h...</td>\n",
       "      <td>1</td>\n",
       "      <td>5</td>\n",
       "      <td>1380</td>\n",
       "    </tr>\n",
       "    <tr>\n",
       "      <th>2</th>\n",
       "      <td>not know going costco could become hobby come ...</td>\n",
       "      <td>1</td>\n",
       "      <td>3</td>\n",
       "      <td>469</td>\n",
       "    </tr>\n",
       "    <tr>\n",
       "      <th>3</th>\n",
       "      <td>bit pricey consistently delicious service alwa...</td>\n",
       "      <td>1</td>\n",
       "      <td>0</td>\n",
       "      <td>106</td>\n",
       "    </tr>\n",
       "    <tr>\n",
       "      <th>4</th>\n",
       "      <td>ashley gave tour apartment nice helpful apartm...</td>\n",
       "      <td>1</td>\n",
       "      <td>0</td>\n",
       "      <td>70</td>\n",
       "    </tr>\n",
       "  </tbody>\n",
       "</table>\n",
       "</div>"
      ],
      "text/plain": [
       "                                              Review  Polarity  Useful  \\\n",
       "0  tai stylist carol hair make wedding absolutely...         1       3   \n",
       "1  highly recommend sara looking great talented h...         1       5   \n",
       "2  not know going costco could become hobby come ...         1       3   \n",
       "3  bit pricey consistently delicious service alwa...         1       0   \n",
       "4  ashley gave tour apartment nice helpful apartm...         1       0   \n",
       "\n",
       "   ReviewLength  \n",
       "0           277  \n",
       "1          1380  \n",
       "2           469  \n",
       "3           106  \n",
       "4            70  "
      ]
     },
     "execution_count": 8,
     "metadata": {},
     "output_type": "execute_result"
    }
   ],
   "source": [
    "data.head()"
   ]
  },
  {
   "cell_type": "code",
   "execution_count": 9,
   "metadata": {},
   "outputs": [
    {
     "data": {
      "text/plain": [
       "<seaborn.axisgrid.FacetGrid at 0x20c46c197f0>"
      ]
     },
     "execution_count": 9,
     "metadata": {},
     "output_type": "execute_result"
    },
    {
     "data": {
      "image/png": "[encoded data removed]",
      "text/plain": [
       "<Figure size 433.75x360 with 1 Axes>"
      ]
     },
     "metadata": {
      "needs_background": "light"
     },
     "output_type": "display_data"
    }
   ],
   "source": [
    "sns.relplot(x=\"ReviewLength\", y=\"Useful\", hue=\"Polarity\", style=\"Polarity\",  data=data)"
   ]
  },
  {
   "cell_type": "code",
   "execution_count": 10,
   "metadata": {},
   "outputs": [
    {
     "data": {
      "text/plain": [
       "<seaborn.axisgrid.FacetGrid at 0x20c47e3b2e8>"
      ]
     },
     "execution_count": 10,
     "metadata": {},
     "output_type": "execute_result"
    },
    {
     "data": {
      "image/png": "[encoded data removed]",
      "text/plain": [
       "<Figure size 360x360 with 1 Axes>"
      ]
     },
     "metadata": {
      "needs_background": "light"
     },
     "output_type": "display_data"
    }
   ],
   "source": [
    "sns.catplot(x=\"Polarity\", y=\"Useful\", kind='bar' ,data=data)"
   ]
  },
  {
   "cell_type": "code",
   "execution_count": 11,
   "metadata": {},
   "outputs": [
    {
     "data": {
      "text/plain": [
       "<seaborn.axisgrid.FacetGrid at 0x20c46cdbcc0>"
      ]
     },
     "execution_count": 11,
     "metadata": {},
     "output_type": "execute_result"
    },
    {
     "data": {
      "image/png": "[encoded data removed]",
      "text/plain": [
       "<Figure size 360x360 with 1 Axes>"
      ]
     },
     "metadata": {
      "needs_background": "light"
     },
     "output_type": "display_data"
    }
   ],
   "source": [
    "sns.catplot(x=\"Polarity\", y=\"Useful\" ,data=data)"
   ]
  },
  {
   "cell_type": "code",
   "execution_count": 12,
   "metadata": {},
   "outputs": [],
   "source": [
    "def NumberOfPOSCounter(x):\n",
    "    posCounters = [0] * 3\n",
    "    tagPairs = TextBlob(x)\n",
    "    #print(tagPairs.tags)\n",
    "    for pairHere in (tagPairs.tags):\n",
    "        tag = pairHere[1]\n",
    "        if tag.startswith(\"NN\"):\n",
    "            posCounters[0] += 1\n",
    "        elif tag.startswith(\"JJ\"):\n",
    "            posCounters[1] += 1\n",
    "        elif tag.startswith(\"VB\"):\n",
    "            posCounters[2] += 1\n",
    "    #print(posCounters) \n",
    "    return posCounters\n",
    "\n"
   ]
  },
  {
   "cell_type": "code",
   "execution_count": 13,
   "metadata": {},
   "outputs": [
    {
     "name": "stderr",
     "output_type": "stream",
     "text": [
      "526121it [35:11, 249.19it/s]\n"
     ]
    }
   ],
   "source": [
    "i = 0\n",
    "for idx, row in tqdm(data.iterrows()):\n",
    "    #print(row['Review'])\n",
    "    posCounters = NumberOfPOSCounter(row['Review'])\n",
    "    data.at[idx, 'Nouns'] = posCounters[0]\n",
    "    data.at[idx, 'Adjectives'] = posCounters[1]\n",
    "    data.at[idx, 'Verbs'] = posCounters[2]"
   ]
  },
  {
   "cell_type": "code",
   "execution_count": 14,
   "metadata": {},
   "outputs": [
    {
     "data": {
      "text/plain": [
       "Review          False\n",
       "Polarity        False\n",
       "Useful          False\n",
       "ReviewLength    False\n",
       "Nouns           False\n",
       "Adjectives      False\n",
       "Verbs           False\n",
       "dtype: bool"
      ]
     },
     "execution_count": 14,
     "metadata": {},
     "output_type": "execute_result"
    }
   ],
   "source": [
    "data.isna().any()"
   ]
  },
  {
   "cell_type": "code",
   "execution_count": 15,
   "metadata": {},
   "outputs": [
    {
     "data": {
      "text/html": [
       "<div>\n",
       "<style scoped>\n",
       "    .dataframe tbody tr th:only-of-type {\n",
       "        vertical-align: middle;\n",
       "    }\n",
       "\n",
       "    .dataframe tbody tr th {\n",
       "        vertical-align: top;\n",
       "    }\n",
       "\n",
       "    .dataframe thead th {\n",
       "        text-align: right;\n",
       "    }\n",
       "</style>\n",
       "<table border=\"1\" class=\"dataframe\">\n",
       "  <thead>\n",
       "    <tr style=\"text-align: right;\">\n",
       "      <th></th>\n",
       "      <th>Review</th>\n",
       "      <th>Polarity</th>\n",
       "      <th>Useful</th>\n",
       "      <th>ReviewLength</th>\n",
       "      <th>Nouns</th>\n",
       "      <th>Adjectives</th>\n",
       "      <th>Verbs</th>\n",
       "    </tr>\n",
       "  </thead>\n",
       "  <tbody>\n",
       "    <tr>\n",
       "      <th>0</th>\n",
       "      <td>tai stylist carol hair make wedding absolutely...</td>\n",
       "      <td>1</td>\n",
       "      <td>3</td>\n",
       "      <td>277</td>\n",
       "      <td>22.0</td>\n",
       "      <td>8.0</td>\n",
       "      <td>6.0</td>\n",
       "    </tr>\n",
       "    <tr>\n",
       "      <th>1</th>\n",
       "      <td>highly recommend sara looking great talented h...</td>\n",
       "      <td>1</td>\n",
       "      <td>5</td>\n",
       "      <td>1380</td>\n",
       "      <td>79.0</td>\n",
       "      <td>38.0</td>\n",
       "      <td>55.0</td>\n",
       "    </tr>\n",
       "    <tr>\n",
       "      <th>2</th>\n",
       "      <td>not know going costco could become hobby come ...</td>\n",
       "      <td>1</td>\n",
       "      <td>3</td>\n",
       "      <td>469</td>\n",
       "      <td>26.0</td>\n",
       "      <td>14.0</td>\n",
       "      <td>18.0</td>\n",
       "    </tr>\n",
       "    <tr>\n",
       "      <th>3</th>\n",
       "      <td>bit pricey consistently delicious service alwa...</td>\n",
       "      <td>1</td>\n",
       "      <td>0</td>\n",
       "      <td>106</td>\n",
       "      <td>4.0</td>\n",
       "      <td>6.0</td>\n",
       "      <td>1.0</td>\n",
       "    </tr>\n",
       "    <tr>\n",
       "      <th>4</th>\n",
       "      <td>ashley gave tour apartment nice helpful apartm...</td>\n",
       "      <td>1</td>\n",
       "      <td>0</td>\n",
       "      <td>70</td>\n",
       "      <td>4.0</td>\n",
       "      <td>5.0</td>\n",
       "      <td>1.0</td>\n",
       "    </tr>\n",
       "  </tbody>\n",
       "</table>\n",
       "</div>"
      ],
      "text/plain": [
       "                                              Review  Polarity  Useful  \\\n",
       "0  tai stylist carol hair make wedding absolutely...         1       3   \n",
       "1  highly recommend sara looking great talented h...         1       5   \n",
       "2  not know going costco could become hobby come ...         1       3   \n",
       "3  bit pricey consistently delicious service alwa...         1       0   \n",
       "4  ashley gave tour apartment nice helpful apartm...         1       0   \n",
       "\n",
       "   ReviewLength  Nouns  Adjectives  Verbs  \n",
       "0           277   22.0         8.0    6.0  \n",
       "1          1380   79.0        38.0   55.0  \n",
       "2           469   26.0        14.0   18.0  \n",
       "3           106    4.0         6.0    1.0  \n",
       "4            70    4.0         5.0    1.0  "
      ]
     },
     "execution_count": 15,
     "metadata": {},
     "output_type": "execute_result"
    }
   ],
   "source": [
    "data.head()"
   ]
  },
  {
   "cell_type": "code",
   "execution_count": 16,
   "metadata": {},
   "outputs": [],
   "source": [
    "data.to_csv('dataset/data_with_tags.csv', index=False)"
   ]
  },
  {
   "cell_type": "code",
   "execution_count": null,
   "metadata": {},
   "outputs": [],
   "source": []
  }
 ],
 "metadata": {
  "kernelspec": {
   "display_name": "Python 3",
   "language": "python",
   "name": "python3"
  },
  "language_info": {
   "codemirror_mode": {
    "name": "ipython",
    "version": 3
   },
   "file_extension": ".py",
   "mimetype": "text/x-python",
   "name": "python",
   "nbconvert_exporter": "python",
   "pygments_lexer": "ipython3",
   "version": "3.7.3"
  }
 },
 "nbformat": 4,
 "nbformat_minor": 2
}
