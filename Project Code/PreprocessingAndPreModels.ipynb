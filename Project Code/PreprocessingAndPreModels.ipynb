{
 "cells": [
  {
   "cell_type": "code",
   "execution_count": 1,
   "metadata": {},
   "outputs": [],
   "source": [
    "import pandas as pd\n",
    "import numpy as np\n",
    "from contractions import contractions\n",
    "from nltk.corpus import stopwords\n",
    "from nltk.tokenize import word_tokenize\n",
    "from bs4 import BeautifulSoup\n",
    "import re\n",
    "from tqdm import tqdm\n",
    "from generatedata import generate_data "
   ]
  },
  {
   "cell_type": "code",
   "execution_count": 2,
   "metadata": {},
   "outputs": [
    {
     "name": "stdout",
     "output_type": "stream",
     "text": [
      "Reading CSV....(Might take around 1:30mins to 2mins- 3.5GB file)\n",
      "Reading Done.\n",
      "Data Generated\n"
     ]
    }
   ],
   "source": [
    "data = generate_data('bigData/yelp_review.csv', 10)"
   ]
  },
  {
   "cell_type": "code",
   "execution_count": 2,
   "metadata": {},
   "outputs": [],
   "source": [
    "# def readAllDataAndMerge():\n",
    "#     data = pd.read_csv('dataset/avg_cleaned_25k_yelp.csv')\n",
    "#     posReviews = pd.read_csv('dataset/pos_cleaned_25k_yelp.csv')\n",
    "#     negReviews = pd.read_csv('dataset/neg_cleaned_25k_yelp.csv')\n",
    "    \n",
    "#     data = data.append(posReviews, ignore_index = True) \n",
    "#     data = data.append(negReviews, ignore_index = True) \n",
    "#     return data"
   ]
  },
  {
   "cell_type": "code",
   "execution_count": 3,
   "metadata": {},
   "outputs": [],
   "source": [
    "# data = readAllDataAndMerge()"
   ]
  },
  {
   "cell_type": "code",
   "execution_count": 4,
   "metadata": {
    "scrolled": false
   },
   "outputs": [
    {
     "data": {
      "text/html": [
       "<div>\n",
       "<style scoped>\n",
       "    .dataframe tbody tr th:only-of-type {\n",
       "        vertical-align: middle;\n",
       "    }\n",
       "\n",
       "    .dataframe tbody tr th {\n",
       "        vertical-align: top;\n",
       "    }\n",
       "\n",
       "    .dataframe thead th {\n",
       "        text-align: right;\n",
       "    }\n",
       "</style>\n",
       "<table border=\"1\" class=\"dataframe\">\n",
       "  <thead>\n",
       "    <tr style=\"text-align: right;\">\n",
       "      <th></th>\n",
       "      <th>stars</th>\n",
       "      <th>date</th>\n",
       "      <th>text</th>\n",
       "      <th>useful</th>\n",
       "    </tr>\n",
       "  </thead>\n",
       "  <tbody>\n",
       "    <tr>\n",
       "      <th>1</th>\n",
       "      <td>4</td>\n",
       "      <td>2014-12-28</td>\n",
       "      <td>Cool hotel, came here for an anniversary a lit...</td>\n",
       "      <td>2</td>\n",
       "    </tr>\n",
       "    <tr>\n",
       "      <th>2</th>\n",
       "      <td>5</td>\n",
       "      <td>2017-03-18</td>\n",
       "      <td>What can I say . Excellent service , you get e...</td>\n",
       "      <td>1</td>\n",
       "    </tr>\n",
       "    <tr>\n",
       "      <th>3</th>\n",
       "      <td>4</td>\n",
       "      <td>2014-05-22</td>\n",
       "      <td>I got a few macarons, a tart and a cappuccino....</td>\n",
       "      <td>0</td>\n",
       "    </tr>\n",
       "    <tr>\n",
       "      <th>4</th>\n",
       "      <td>5</td>\n",
       "      <td>2015-02-15</td>\n",
       "      <td>Oh yah, this is my childhood crush from the 70...</td>\n",
       "      <td>0</td>\n",
       "    </tr>\n",
       "    <tr>\n",
       "      <th>5</th>\n",
       "      <td>4</td>\n",
       "      <td>2015-03-18</td>\n",
       "      <td>Great place, for it was here that I finally fo...</td>\n",
       "      <td>0</td>\n",
       "    </tr>\n",
       "  </tbody>\n",
       "</table>\n",
       "</div>"
      ],
      "text/plain": [
       "   stars        date                                               text  \\\n",
       "1      4  2014-12-28  Cool hotel, came here for an anniversary a lit...   \n",
       "2      5  2017-03-18  What can I say . Excellent service , you get e...   \n",
       "3      4  2014-05-22  I got a few macarons, a tart and a cappuccino....   \n",
       "4      5  2015-02-15  Oh yah, this is my childhood crush from the 70...   \n",
       "5      4  2015-03-18  Great place, for it was here that I finally fo...   \n",
       "\n",
       "   useful  \n",
       "1       2  \n",
       "2       1  \n",
       "3       0  \n",
       "4       0  \n",
       "5       0  "
      ]
     },
     "execution_count": 4,
     "metadata": {},
     "output_type": "execute_result"
    }
   ],
   "source": [
    "data.head()"
   ]
  },
  {
   "cell_type": "code",
   "execution_count": 5,
   "metadata": {},
   "outputs": [
    {
     "name": "stdout",
     "output_type": "stream",
     "text": [
      "<class 'pandas.core.frame.DataFrame'>\n",
      "Int64Index: 526168 entries, 1 to 526168\n",
      "Data columns (total 4 columns):\n",
      "stars     526168 non-null int64\n",
      "date      526168 non-null object\n",
      "text      526168 non-null object\n",
      "useful    526168 non-null int64\n",
      "dtypes: int64(2), object(2)\n",
      "memory usage: 20.1+ MB\n"
     ]
    }
   ],
   "source": [
    "data.info()"
   ]
  },
  {
   "cell_type": "code",
   "execution_count": 6,
   "metadata": {},
   "outputs": [],
   "source": [
    "def assignPolarityToReviews(stars):\n",
    "    if stars > 3:\n",
    "        return 1\n",
    "    if stars == 3:\n",
    "        return 0\n",
    "    return -1"
   ]
  },
  {
   "cell_type": "code",
   "execution_count": 7,
   "metadata": {},
   "outputs": [],
   "source": [
    "starsColumn = data['stars']\n",
    "polarity = starsColumn.map(assignPolarityToReviews)\n",
    "data['polarity'] = polarity #1: Good | 0:Neutral | 1:Bad"
   ]
  },
  {
   "cell_type": "code",
   "execution_count": 8,
   "metadata": {},
   "outputs": [
    {
     "data": {
      "text/html": [
       "<div>\n",
       "<style scoped>\n",
       "    .dataframe tbody tr th:only-of-type {\n",
       "        vertical-align: middle;\n",
       "    }\n",
       "\n",
       "    .dataframe tbody tr th {\n",
       "        vertical-align: top;\n",
       "    }\n",
       "\n",
       "    .dataframe thead th {\n",
       "        text-align: right;\n",
       "    }\n",
       "</style>\n",
       "<table border=\"1\" class=\"dataframe\">\n",
       "  <thead>\n",
       "    <tr style=\"text-align: right;\">\n",
       "      <th></th>\n",
       "      <th>stars</th>\n",
       "      <th>date</th>\n",
       "      <th>text</th>\n",
       "      <th>useful</th>\n",
       "      <th>polarity</th>\n",
       "    </tr>\n",
       "  </thead>\n",
       "  <tbody>\n",
       "    <tr>\n",
       "      <th>0</th>\n",
       "      <td>5</td>\n",
       "      <td>2015-06-07</td>\n",
       "      <td>Tai and her stylist Carol did my hair and make...</td>\n",
       "      <td>3</td>\n",
       "      <td>1</td>\n",
       "    </tr>\n",
       "    <tr>\n",
       "      <th>1</th>\n",
       "      <td>4</td>\n",
       "      <td>2017-04-19</td>\n",
       "      <td>I HIGHLY recommend Sara if you are looking for...</td>\n",
       "      <td>5</td>\n",
       "      <td>1</td>\n",
       "    </tr>\n",
       "    <tr>\n",
       "      <th>2</th>\n",
       "      <td>4</td>\n",
       "      <td>2015-10-23</td>\n",
       "      <td>I didn't know going to Costco could become a h...</td>\n",
       "      <td>3</td>\n",
       "      <td>1</td>\n",
       "    </tr>\n",
       "    <tr>\n",
       "      <th>3</th>\n",
       "      <td>4</td>\n",
       "      <td>2014-05-31</td>\n",
       "      <td>A bit pricey but consistently delicious!!! Ser...</td>\n",
       "      <td>0</td>\n",
       "      <td>1</td>\n",
       "    </tr>\n",
       "    <tr>\n",
       "      <th>4</th>\n",
       "      <td>5</td>\n",
       "      <td>2016-06-21</td>\n",
       "      <td>Ashley gave me a tour of the apartment and she...</td>\n",
       "      <td>0</td>\n",
       "      <td>1</td>\n",
       "    </tr>\n",
       "    <tr>\n",
       "      <th>5</th>\n",
       "      <td>5</td>\n",
       "      <td>2016-07-23</td>\n",
       "      <td>Hauled my tukas all the way out to Monroeville...</td>\n",
       "      <td>1</td>\n",
       "      <td>1</td>\n",
       "    </tr>\n",
       "    <tr>\n",
       "      <th>6</th>\n",
       "      <td>5</td>\n",
       "      <td>2012-12-12</td>\n",
       "      <td>Finally, civilization arrives in Champaign-Urb...</td>\n",
       "      <td>1</td>\n",
       "      <td>1</td>\n",
       "    </tr>\n",
       "    <tr>\n",
       "      <th>7</th>\n",
       "      <td>5</td>\n",
       "      <td>2015-11-27</td>\n",
       "      <td>A rough november but Today has started of as a...</td>\n",
       "      <td>0</td>\n",
       "      <td>1</td>\n",
       "    </tr>\n",
       "    <tr>\n",
       "      <th>8</th>\n",
       "      <td>5</td>\n",
       "      <td>2017-02-18</td>\n",
       "      <td>So went into buck and badger last Saturday for...</td>\n",
       "      <td>0</td>\n",
       "      <td>1</td>\n",
       "    </tr>\n",
       "    <tr>\n",
       "      <th>9</th>\n",
       "      <td>1</td>\n",
       "      <td>2017-11-27</td>\n",
       "      <td>This place is horrible at everything. The bart...</td>\n",
       "      <td>0</td>\n",
       "      <td>-1</td>\n",
       "    </tr>\n",
       "  </tbody>\n",
       "</table>\n",
       "</div>"
      ],
      "text/plain": [
       "   stars        date                                               text  \\\n",
       "0      5  2015-06-07  Tai and her stylist Carol did my hair and make...   \n",
       "1      4  2017-04-19  I HIGHLY recommend Sara if you are looking for...   \n",
       "2      4  2015-10-23  I didn't know going to Costco could become a h...   \n",
       "3      4  2014-05-31  A bit pricey but consistently delicious!!! Ser...   \n",
       "4      5  2016-06-21  Ashley gave me a tour of the apartment and she...   \n",
       "5      5  2016-07-23  Hauled my tukas all the way out to Monroeville...   \n",
       "6      5  2012-12-12  Finally, civilization arrives in Champaign-Urb...   \n",
       "7      5  2015-11-27  A rough november but Today has started of as a...   \n",
       "8      5  2017-02-18  So went into buck and badger last Saturday for...   \n",
       "9      1  2017-11-27  This place is horrible at everything. The bart...   \n",
       "\n",
       "   useful  polarity  \n",
       "0       3         1  \n",
       "1       5         1  \n",
       "2       3         1  \n",
       "3       0         1  \n",
       "4       0         1  \n",
       "5       1         1  \n",
       "6       1         1  \n",
       "7       0         1  \n",
       "8       0         1  \n",
       "9       0        -1  "
      ]
     },
     "execution_count": 8,
     "metadata": {},
     "output_type": "execute_result"
    }
   ],
   "source": [
    "data = data.sample(frac=1).reset_index(drop=True)\n",
    "data.head(10)"
   ]
  },
  {
   "cell_type": "code",
   "execution_count": 9,
   "metadata": {},
   "outputs": [
    {
     "name": "stdout",
     "output_type": "stream",
     "text": [
      "{'yourselves', \"wouldn't\", 'a', 'he', 'now', 'at', 'so', 'his', 'both', 'we', 'were', 'had', 'about', 'my', \"you'll\", \"she's\", \"weren't\", 'into', 'these', 'have', 'in', 'mightn', 'o', 'won', 'was', 'before', 'that', 'on', 'not', 'or', 'can', 'the', 'when', 'below', 'being', 'over', 'other', 'themselves', 'me', 'how', 'ain', 'hers', 'but', 'been', 'didn', \"shan't\", 'with', 'once', 'just', \"won't\", 'more', 'off', \"aren't\", 'down', 'for', 'then', 'ma', 'only', 'myself', 'y', 'hasn', 'yours', 'ourselves', 'does', 'further', 'aren', 'haven', 'is', 'nor', 've', 'from', 'while', 'our', 'by', 'did', 'm', 'through', 'having', 'after', 'couldn', 'out', 'shouldn', 'theirs', 'because', \"don't\", 'don', 'where', 'why', 'most', 'any', 'should', \"needn't\", 'own', 'if', 'her', 'there', \"shouldn't\", 'of', 'each', \"couldn't\", 'it', 'between', 'and', 'those', 'll', 'needn', 'weren', 'isn', 'wouldn', 'which', \"didn't\", \"you'd\", \"wasn't\", 'they', \"doesn't\", 't', 'whom', 'against', 'she', 'you', \"hadn't\", 'wasn', 'all', 'him', 'himself', 'i', 'what', \"haven't\", \"you've\", 'doesn', \"should've\", 're', 'some', 'them', 'shan', 'be', 'its', 'same', \"mightn't\", 'd', \"it's\", \"isn't\", 'who', \"hasn't\", 'again', 'no', 'to', 'this', 'very', 'ours', 'itself', 'here', 'under', 'until', 'few', 'your', \"you're\", 'their', 'do', 'are', \"that'll\", 'during', 'as', 'mustn', 'am', 'above', 'too', 'yourself', 'than', \"mustn't\", 'up', 'such', 'will', 'herself', 'an', 'hadn', 's', 'has', 'doing'}\n"
     ]
    }
   ],
   "source": [
    "#Stopwords selection\n",
    "#https://www.cs.cmu.edu/~ark/EMNLP-2015/proceedings/WASSA/pdf/WASSA14.pdf\n",
    "\n",
    "stopWords = set(stopwords.words('english'))\n",
    "print(stopWords)"
   ]
  },
  {
   "cell_type": "code",
   "execution_count": 10,
   "metadata": {},
   "outputs": [
    {
     "name": "stdout",
     "output_type": "stream",
     "text": [
      "{'yourselves', 'a', 'he', 'now', 'at', 'so', 'his', 'both', 'we', 'were', 'had', 'about', 'my', \"you'll\", \"she's\", 'into', 'these', 'have', 'in', 'mightn', 'o', 'won', 'was', 'before', 'that', 'on', 'not', 'or', 'can', 'the', 'when', 'below', 'over', 'being', 'other', 'themselves', 'me', 'how', 'ain', 'hers', 'but', 'been', 'didn', 'with', 'once', 'just', 'more', 'off', 'down', 'for', 'then', 'ma', 'only', 'myself', 'y', 'yours', 'ourselves', 'does', 'further', 'aren', 'haven', 'is', 'nor', 've', 'from', 'while', 'our', 'by', 'did', 'm', 'through', 'having', 'after', 'couldn', 'out', 'shouldn', 'theirs', 'because', 'don', 'where', 'why', 'most', 'any', 'should', 'own', 'if', 'her', 'there', 'of', 'each', 'it', 'between', 'and', 'doing', 'those', 'll', 'needn', 'weren', 'isn', 'wouldn', 'which', \"you'd\", 'they', 't', 'whom', 'against', 'she', 'you', 'wasn', 'all', 'him', 'himself', 'i', 'what', \"you've\", 'doesn', \"should've\", 're', 'some', 'them', 'shan', 'be', 'its', 'same', 'd', \"it's\", 'who', 'again', 'no', 'to', 'this', 'very', 'ours', 'itself', 'here', 'under', 'until', 'few', 'your', \"you're\", 'their', 'do', 'are', \"that'll\", 'during', 'as', 'mustn', 'am', 'above', 'too', 'yourself', 'than', 'up', 'such', 'will', 'herself', 'an', 'hadn', 's', 'has', 'hasn'}\n"
     ]
    }
   ],
   "source": [
    "def filterStopWords(words):\n",
    "    filteredList = set()\n",
    "    for word in words:\n",
    "        if \"n't\" not in word:\n",
    "            filteredList.add(word)\n",
    "    return filteredList\n",
    "\n",
    "\n",
    "\n",
    "stopWords = filterStopWords(stopWords)\n",
    "print(stopWords)"
   ]
  },
  {
   "cell_type": "code",
   "execution_count": 11,
   "metadata": {},
   "outputs": [],
   "source": [
    "\n",
    "wordsRequiredOfStopWords = ['not', 'nor', 'neither' , 'no']\n",
    "\n",
    "stopWords = stopWords.difference(wordsRequiredOfStopWords)"
   ]
  },
  {
   "cell_type": "code",
   "execution_count": 12,
   "metadata": {},
   "outputs": [],
   "source": [
    "#Improving performance in string manipulation\n",
    "def expandContractions(text):\n",
    "    words = text.split(' ')\n",
    "    expandedTextList = []\n",
    "    for word in words:\n",
    "        if(word in contractions):\n",
    "            expandedTextList.append(contractions[word].split('/')[0]) #Always considering 1st form of verb for list\n",
    "        else:\n",
    "            expandedTextList.append(word)\n",
    "        expandedTextList.append(' ')\n",
    "    return ''.join(expandedTextList)\n",
    "\n",
    "def getNonStopWordsLowerCase(text):\n",
    "    textTokens = word_tokenize(text)\n",
    "    retText = []\n",
    "    for w in textTokens:\n",
    "        w = w.lower()\n",
    "        if(w not in stopWords and len(w) > 1) :\n",
    "            retText.append(w + ' ')\n",
    "            \n",
    "    return ''.join(retText)\n",
    "\n",
    "def textCleaning(text):\n",
    "    \n",
    "    #Remove Hyperlinks\n",
    "    # Regex: r'\\S+', # sequence of non-whitespace\n",
    "    text = re.sub(r'http\\S+', '', text)\n",
    "    \n",
    "    #Remove all tags\n",
    "    text = BeautifulSoup(text, 'html.parser').get_text()\n",
    "    \n",
    "    #Expand texts\n",
    "    text = expandContractions(text)\n",
    "    \n",
    "    #Remove all words containing numbers\n",
    "    #https://stackoverflow.com/questions/18082130/python-regex-to-remove-all-words-which-contains-number\n",
    "    text = ' '.join(s for s in text.split() if not any(c.isdigit() for c in s))\n",
    "    \n",
    "    #Remove special characters\n",
    "    text = re.sub('[^A-Za-z]+', ' ', text)\n",
    "    \n",
    "    #Get non stop words in lower case\n",
    "    text = getNonStopWordsLowerCase(text).strip()\n",
    "    \n",
    "    return text\n"
   ]
  },
  {
   "cell_type": "code",
   "execution_count": 13,
   "metadata": {},
   "outputs": [
    {
     "name": "stderr",
     "output_type": "stream",
     "text": [
      " 95%|████████████████████████████████████████████████████████████████████    | 497513/526168 [05:25<00:18, 1529.45it/s]C:\\ProgramData\\Anaconda3\\lib\\site-packages\\bs4\\__init__.py:302: UserWarning: \"b'II own a unit at the Maya and am totally shocked by the negative vicious review of it by someone..... .I love living here. It is VERY convenient to stores, highways, cultural events, etc. Everything in my unit works well - I have no complaints\\\\/..'\" looks like a filename, not markup. You should probably open this file and pass the filehandle into Beautiful Soup.\n",
      "  ' Beautiful Soup.' % markup)\n",
      "100%|████████████████████████████████████████████████████████████████████████| 526168/526168 [05:44<00:00, 1528.04it/s]\n"
     ]
    }
   ],
   "source": [
    "\n",
    "preprocessed_texts = []\n",
    "\n",
    "for text in tqdm(data['text'].values):\n",
    "    doneText = textCleaning(text)\n",
    "    #if(len(doneText) < 2):\n",
    "    #   continue\n",
    "    preprocessed_texts.append(doneText)\n"
   ]
  },
  {
   "cell_type": "code",
   "execution_count": 14,
   "metadata": {},
   "outputs": [
    {
     "data": {
      "text/plain": [
       "526168"
      ]
     },
     "execution_count": 14,
     "metadata": {},
     "output_type": "execute_result"
    }
   ],
   "source": [
    "len(preprocessed_texts)"
   ]
  },
  {
   "cell_type": "code",
   "execution_count": 15,
   "metadata": {},
   "outputs": [],
   "source": [
    "#Sample prints\n",
    "\n",
    "def printPreprocessedTexts(idx):\n",
    "\n",
    "    print(\"Original Text:\\t\",data['text'][idx] , end='\\n\\n')\n",
    "    print(\"Preprocessed Text:\\t\",preprocessed_texts[idx], end='\\n\\n')\n",
    "\n",
    "    print(\"Polarity of the text: \", data['polarity'][idx])"
   ]
  },
  {
   "cell_type": "code",
   "execution_count": 16,
   "metadata": {
    "scrolled": true
   },
   "outputs": [
    {
     "name": "stdout",
     "output_type": "stream",
     "text": [
      "Original Text:\t Tai and her stylist Carol did my hair and make up for my wedding.   Both of them are absolutely awesome!!! They're extremely professional, prompt and are top notch in their respective trades.  We were transformed in an hour and had fun along the way.  Tai has a portable make up chair,  air brush and every color imaginable. \n",
      "\n",
      "I would recommend Tai &  her team to anyone who wants professional hair & make up done in Vegas, they're the best!\n",
      "\n",
      "Preprocessed Text:\t tai stylist carol hair make wedding absolutely awesome extremely professional prompt top notch respective trades transformed hour fun along way tai portable make chair air brush every color imaginable would recommend tai team anyone wants professional hair make done vegas best\n",
      "\n",
      "Polarity of the text:  1\n"
     ]
    }
   ],
   "source": [
    "printPreprocessedTexts(0)"
   ]
  },
  {
   "cell_type": "code",
   "execution_count": 17,
   "metadata": {
    "scrolled": true
   },
   "outputs": [
    {
     "name": "stdout",
     "output_type": "stream",
     "text": [
      "Original Text:\t I HIGHLY recommend Sara if you are looking for a great, talented hair colorist! She saved my terribly damaged hair from another hair salon's bad coloring job.\n",
      "She put beautiful highlights and lowlights on my hair. I showed her a picture of what I wanted and she did EXACTLY what it looked like on my hair. No one ever could've done that because I have super thick, coarse hair that colors or bleach usually don't go in very easily. On top of that, I have a ton of hair which took Sara 3 hours to put high and low lights! She is very thorough. I don't think anyone was this immaculate putting color on my hair. She makes sure everyone leaves the salon happy but she would never do anything to damage or ruin your hair. I saw Sara's beautiful platinum blond work on someone and it was so shiny and healthy looking. \n",
      "Not only she is very talented, her personality is amazing!! I always get a little nervous spending hours in hair salons and  having conversation with hair stylists (Well, I'm a foreigner and my English isn't that great.) BUT Sara made me feel comfortable and I enjoyed talking to her so much. Such a cheerful, happy person. Also, she is packed with all kinds of information I can keep talking to her for hours. Lots of laughter. I freaking love this girl!!\n",
      "Only thing... one time I came in for my appointment which I made a month prior and they told me I never had any appointment so I had to get my color done from someone else. (Impossible because I always made next appointments before I left the salon and I even had a card they gave me with the date and the time on it.) Well, not a big deal I guess but I was bummed out. A little. (4.5)\n",
      "Anyways, this hair salon is amazing overall. If you are looking for great hair cut and stylist, Michi is fantastic. I saw a lot of Michi's amazing hair cutting and styling works on people. She's so sweet. Tonya at the front always warmly welcomed me and asked me if I need water, coffee or sangria made by Sara on Saturdays!) Everyone is so nice and friendly in this salon. Very family feel and comfortable.\n",
      "Again, I highly highly recommend JM Hair Gallery!!\n",
      "\n",
      "Preprocessed Text:\t highly recommend sara looking great talented hair colorist saved terribly damaged hair another hair salon bad coloring job put beautiful highlights lowlights hair showed picture wanted exactly looked like hair no one ever could done super thick coarse hair colors bleach usually not go easily top ton hair took sara hours put high low lights thorough not think anyone immaculate putting color hair makes sure everyone leaves salon happy would never anything damage ruin hair saw sara beautiful platinum blond work someone shiny healthy looking not talented personality amazing always get little nervous spending hours hair salons conversation hair stylists well foreigner english not great sara made feel comfortable enjoyed talking much cheerful happy person also packed kinds information keep talking hours lots laughter freaking love girl thing one time came appointment made month prior told never appointment get color done someone else impossible always made next appointments left salon even card gave date time well not big deal guess bummed little anyways hair salon amazing overall looking great hair cut stylist michi fantastic saw lot michi amazing hair cutting styling works people sweet tonya front always warmly welcomed asked need water coffee sangria made sara saturdays everyone nice friendly salon family feel comfortable highly highly recommend jm hair gallery\n",
      "\n",
      "Polarity of the text:  1\n"
     ]
    }
   ],
   "source": [
    "printPreprocessedTexts(1)"
   ]
  },
  {
   "cell_type": "code",
   "execution_count": 18,
   "metadata": {},
   "outputs": [
    {
     "name": "stdout",
     "output_type": "stream",
     "text": [
      "Original Text:\t I didn't know going to Costco could become a hobby, but now I do. I come here with no intention of buying anything but it is Costco, and you're bound to walk out of this place with something. There is something for everyone!\n",
      "\n",
      "I bought a floral arrangement here for $30, where at a florists it would be at least $90+ (if you've purchased an arrangement from a floral shop, you know what I'm talking about). Also, the samples spread throughout this place are amazing, omg I can't stop eating when I'm here. It is a good sales tactic, you try it and love it and want more... ugh so good.\n",
      "\n",
      "The pizza is delicious and cheap. Out of curiosity, I looked up the calorie count on the pizza. ONE SLICE = 700 CALORIES. Luckily, my friend and I split one piece down the middle (350 calories but still, wow). BEWARE.\n",
      "\n",
      "Preprocessed Text:\t not know going costco could become hobby come no intention buying anything costco bound walk place something something everyone bought floral arrangement florists would least purchased arrangement floral shop know talking also samples spread throughout place amazing omg not stop eating good sales tactic try love want ugh good pizza delicious cheap curiosity looked calorie count pizza one slice calories luckily friend split one piece middle calories still wow beware\n",
      "\n",
      "Polarity of the text:  1\n"
     ]
    }
   ],
   "source": [
    "printPreprocessedTexts(2)"
   ]
  },
  {
   "cell_type": "code",
   "execution_count": 19,
   "metadata": {},
   "outputs": [
    {
     "name": "stdout",
     "output_type": "stream",
     "text": [
      "<class 'pandas.core.frame.DataFrame'>\n",
      "RangeIndex: 526168 entries, 0 to 526167\n",
      "Data columns (total 3 columns):\n",
      "Review      526168 non-null object\n",
      "Polarity    526168 non-null int64\n",
      "Useful      526168 non-null int64\n",
      "dtypes: int64(2), object(1)\n",
      "memory usage: 12.0+ MB\n"
     ]
    }
   ],
   "source": [
    "#Writing to CSV to avoid recomputation\n",
    "\n",
    "#colList = ['Review','Polarity','Useful']\n",
    "to_save = pd.DataFrame({'Review': preprocessed_texts, 'Polarity': data['polarity'], 'Useful':data['useful'] })\n",
    "to_save.info()"
   ]
  },
  {
   "cell_type": "code",
   "execution_count": 20,
   "metadata": {},
   "outputs": [],
   "source": [
    "to_save.to_csv('dataset/preprocessed.csv', index=False)"
   ]
  },
  {
   "cell_type": "code",
   "execution_count": null,
   "metadata": {},
   "outputs": [],
   "source": []
  }
 ],
 "metadata": {
  "kernelspec": {
   "display_name": "Python 3",
   "language": "python",
   "name": "python3"
  },
  "language_info": {
   "codemirror_mode": {
    "name": "ipython",
    "version": 3
   },
   "file_extension": ".py",
   "mimetype": "text/x-python",
   "name": "python",
   "nbconvert_exporter": "python",
   "pygments_lexer": "ipython3",
   "version": "3.7.3"
  }
 },
 "nbformat": 4,
 "nbformat_minor": 2
}
