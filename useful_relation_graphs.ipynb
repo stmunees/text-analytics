{
  "nbformat": 4,
  "nbformat_minor": 0,
  "metadata": {
    "colab": {
      "name": "TA_DataCleaning.ipynb",
      "provenance": [],
      "collapsed_sections": [],
      "toc_visible": true,
      "machine_shape": "hm"
    },
    "kernelspec": {
      "name": "python3",
      "display_name": "Python 3"
    }
  },
  "cells": [
    {
      "cell_type": "code",
      "metadata": {
        "id": "l4ukE-BVHUvY",
        "colab_type": "code",
        "outputId": "02de32f0-aa50-4d75-ece3-ba800df8ac09",
        "colab": {
          "base_uri": "https://localhost:8080/",
          "height": 34
        }
      },
      "source": [
        "import os\n",
        "import pandas as pd\n",
        "os.listdir()"
      ],
      "execution_count": 1,
      "outputs": [
        {
          "output_type": "execute_result",
          "data": {
            "text/plain": [
              "['.config', 'drive', 'sample_data']"
            ]
          },
          "metadata": {
            "tags": []
          },
          "execution_count": 1
        }
      ]
    },
    {
      "cell_type": "code",
      "metadata": {
        "id": "muF5LrAH9_to",
        "colab_type": "code",
        "outputId": "7df42640-7447-4288-bfbb-26c5d261b51e",
        "colab": {
          "base_uri": "https://localhost:8080/",
          "height": 34
        }
      },
      "source": [
        "cd .."
      ],
      "execution_count": 0,
      "outputs": [
        {
          "output_type": "stream",
          "text": [
            "/content\n"
          ],
          "name": "stdout"
        }
      ]
    },
    {
      "cell_type": "code",
      "metadata": {
        "id": "tAS0B12jILxS",
        "colab_type": "code",
        "colab": {}
      },
      "source": [
        "path='drive/My Drive/Text Analytics/Dataset/'"
      ],
      "execution_count": 0,
      "outputs": []
    },
    {
      "cell_type": "code",
      "metadata": {
        "id": "Z_WYHiJOIfZG",
        "colab_type": "code",
        "outputId": "ed13725d-3fc9-4928-9c6a-8c48b5376f88",
        "colab": {
          "base_uri": "https://localhost:8080/",
          "height": 34
        }
      },
      "source": [
        "cd drive/My Drive/Text Analytics/Dataset/"
      ],
      "execution_count": 3,
      "outputs": [
        {
          "output_type": "stream",
          "text": [
            "/content/drive/My Drive/Text Analytics/Dataset\n"
          ],
          "name": "stdout"
        }
      ]
    },
    {
      "cell_type": "code",
      "metadata": {
        "id": "08UdhUE9Iifq",
        "colab_type": "code",
        "colab": {}
      },
      "source": [
        "test = pd.read_csv('yelp_review.csv')"
      ],
      "execution_count": 0,
      "outputs": []
    },
    {
      "cell_type": "code",
      "metadata": {
        "id": "eb1xTrV6KXpp",
        "colab_type": "code",
        "outputId": "ab82180b-bcd5-41a1-8cb0-bb1e1d7e1921",
        "colab": {
          "base_uri": "https://localhost:8080/",
          "height": 34
        }
      },
      "source": [
        "test.shape[0]"
      ],
      "execution_count": 0,
      "outputs": [
        {
          "output_type": "execute_result",
          "data": {
            "text/plain": [
              "5261668"
            ]
          },
          "metadata": {
            "tags": []
          },
          "execution_count": 110
        }
      ]
    },
    {
      "cell_type": "code",
      "metadata": {
        "id": "EqTlvaOalvJ0",
        "colab_type": "code",
        "colab": {}
      },
      "source": [
        "del test['review_id']\n",
        "del test['user_id']\n",
        "del test['business_id']\n",
        "del test['funny']\n",
        "del test['cool']"
      ],
      "execution_count": 0,
      "outputs": []
    },
    {
      "cell_type": "code",
      "metadata": {
        "id": "kCmPL1nQvzdv",
        "colab_type": "code",
        "outputId": "9727ac5f-54af-4612-d40a-cc33d05fd695",
        "colab": {
          "base_uri": "https://localhost:8080/",
          "height": 34
        }
      },
      "source": [
        "test[test['stars']==1].shape[0]"
      ],
      "execution_count": 0,
      "outputs": [
        {
          "output_type": "execute_result",
          "data": {
            "text/plain": [
              "2925452"
            ]
          },
          "metadata": {
            "tags": []
          },
          "execution_count": 74
        }
      ]
    },
    {
      "cell_type": "code",
      "metadata": {
        "id": "kaPZyp57xHXg",
        "colab_type": "code",
        "colab": {}
      },
      "source": [
        "  star_count=[]\n",
        "  for i in range(1,6):\n",
        "    star_count.append(test[test['stars']==i].shape[0])"
      ],
      "execution_count": 0,
      "outputs": []
    },
    {
      "cell_type": "code",
      "metadata": {
        "id": "m1BiSjUvxJNX",
        "colab_type": "code",
        "outputId": "118ccd52-e5e5-4628-9f06-1389b058d1a0",
        "colab": {
          "base_uri": "https://localhost:8080/",
          "height": 34
        }
      },
      "source": [
        "star_count"
      ],
      "execution_count": 12,
      "outputs": [
        {
          "output_type": "execute_result",
          "data": {
            "text/plain": [
              "[731363, 438161, 615481, 1223316, 2253347]"
            ]
          },
          "metadata": {
            "tags": []
          },
          "execution_count": 12
        }
      ]
    },
    {
      "cell_type": "code",
      "metadata": {
        "id": "Simc9L2oxJAD",
        "colab_type": "code",
        "colab": {}
      },
      "source": [
        "stars=None\n",
        "percent=1\n",
        "distrib=[50,50]\n",
        "for i in range(1,6):\n",
        "  star_count.append(test[test['stars']==i].shape[0])\n",
        "total_pos_count = star_count[3]+star_count[4]\n",
        "total_neg_count = star_count[0]+star_count[1]\n",
        "num_data  = round((test.shape[0])/(percent*100))\n",
        "if(stars!=None):\n",
        "  distrib=None\n",
        "if(stars==None):\n",
        "    pos_req = round((num_data*distrib[0])/100)\n",
        "    neg_req = round((num_data*distrib[1])/100)\n",
        "    pos_test = test['stars']>=4\n",
        "    neg_test = test['stars']<=2\n",
        "    pos_test = test[pos_test]\n",
        "    neg_test = test[neg_test]\n",
        "    if (pos_req <= total_pos_count and neg_req <= total_neg_count):\n",
        "      new_pos_df = pos_test.sample(pos_req)\n",
        "      new_pos_df = new_pos_df.reset_index(drop=True)\n",
        "      new_neg_df = neg_test.sample(neg_req)\n",
        "      new_neg_df = new_neg_df.reset_index(drop=True)\n",
        "      final_df=pd.concat([new_pos_df, new_neg_df], axis=0)\n",
        "      index1=list(range(1,pos_req+1))\n",
        "      index2=list(range(pos_req+1,final_df.shape[0]+1))\n",
        "      index=index1+index2\n",
        "      final_df.index=index"
      ],
      "execution_count": 0,
      "outputs": []
    },
    {
      "cell_type": "code",
      "metadata": {
        "id": "eG2niQ1zJMa5",
        "colab_type": "code",
        "outputId": "02bad164-00f3-47a3-822c-06bdf74aed01",
        "colab": {
          "base_uri": "https://localhost:8080/",
          "height": 419
        }
      },
      "source": [
        "final_df"
      ],
      "execution_count": 14,
      "outputs": [
        {
          "output_type": "execute_result",
          "data": {
            "text/html": [
              "<div>\n",
              "<style scoped>\n",
              "    .dataframe tbody tr th:only-of-type {\n",
              "        vertical-align: middle;\n",
              "    }\n",
              "\n",
              "    .dataframe tbody tr th {\n",
              "        vertical-align: top;\n",
              "    }\n",
              "\n",
              "    .dataframe thead th {\n",
              "        text-align: right;\n",
              "    }\n",
              "</style>\n",
              "<table border=\"1\" class=\"dataframe\">\n",
              "  <thead>\n",
              "    <tr style=\"text-align: right;\">\n",
              "      <th></th>\n",
              "      <th>stars</th>\n",
              "      <th>date</th>\n",
              "      <th>text</th>\n",
              "      <th>useful</th>\n",
              "    </tr>\n",
              "  </thead>\n",
              "  <tbody>\n",
              "    <tr>\n",
              "      <th>1</th>\n",
              "      <td>4</td>\n",
              "      <td>2017-11-05</td>\n",
              "      <td>If you this restaurant hasn't already caught y...</td>\n",
              "      <td>0</td>\n",
              "    </tr>\n",
              "    <tr>\n",
              "      <th>2</th>\n",
              "      <td>4</td>\n",
              "      <td>2009-07-16</td>\n",
              "      <td>I've always felt bad about the fact that I nev...</td>\n",
              "      <td>1</td>\n",
              "    </tr>\n",
              "    <tr>\n",
              "      <th>3</th>\n",
              "      <td>5</td>\n",
              "      <td>2017-07-27</td>\n",
              "      <td>If you want to have a true VIP experience in L...</td>\n",
              "      <td>2</td>\n",
              "    </tr>\n",
              "    <tr>\n",
              "      <th>4</th>\n",
              "      <td>4</td>\n",
              "      <td>2010-10-08</td>\n",
              "      <td>Who knew little old Cramerton was hiding a tas...</td>\n",
              "      <td>7</td>\n",
              "    </tr>\n",
              "    <tr>\n",
              "      <th>5</th>\n",
              "      <td>5</td>\n",
              "      <td>2012-09-11</td>\n",
              "      <td>Better than the Tao in NYC!\\n\\nPros:  \\nExcell...</td>\n",
              "      <td>0</td>\n",
              "    </tr>\n",
              "    <tr>\n",
              "      <th>...</th>\n",
              "      <td>...</td>\n",
              "      <td>...</td>\n",
              "      <td>...</td>\n",
              "      <td>...</td>\n",
              "    </tr>\n",
              "    <tr>\n",
              "      <th>52612</th>\n",
              "      <td>1</td>\n",
              "      <td>2017-07-14</td>\n",
              "      <td>Rip Off ALERT!!!!!!\\nBooking it cost me 300CAD...</td>\n",
              "      <td>5</td>\n",
              "    </tr>\n",
              "    <tr>\n",
              "      <th>52613</th>\n",
              "      <td>1</td>\n",
              "      <td>2009-07-16</td>\n",
              "      <td>Beware Spencer's. Horrible customer service. \\...</td>\n",
              "      <td>14</td>\n",
              "    </tr>\n",
              "    <tr>\n",
              "      <th>52614</th>\n",
              "      <td>2</td>\n",
              "      <td>2017-07-24</td>\n",
              "      <td>Steak was good but it's ridiculous that you ca...</td>\n",
              "      <td>0</td>\n",
              "    </tr>\n",
              "    <tr>\n",
              "      <th>52615</th>\n",
              "      <td>2</td>\n",
              "      <td>2011-04-13</td>\n",
              "      <td>I was pretty underwhelmed with this burger. \\n...</td>\n",
              "      <td>4</td>\n",
              "    </tr>\n",
              "    <tr>\n",
              "      <th>52616</th>\n",
              "      <td>1</td>\n",
              "      <td>2008-11-25</td>\n",
              "      <td>I'm writing this review as I'm on hold with th...</td>\n",
              "      <td>7</td>\n",
              "    </tr>\n",
              "  </tbody>\n",
              "</table>\n",
              "<p>52616 rows × 4 columns</p>\n",
              "</div>"
            ],
            "text/plain": [
              "       stars  ... useful\n",
              "1          4  ...      0\n",
              "2          4  ...      1\n",
              "3          5  ...      2\n",
              "4          4  ...      7\n",
              "5          5  ...      0\n",
              "...      ...  ...    ...\n",
              "52612      1  ...      5\n",
              "52613      1  ...     14\n",
              "52614      2  ...      0\n",
              "52615      2  ...      4\n",
              "52616      1  ...      7\n",
              "\n",
              "[52616 rows x 4 columns]"
            ]
          },
          "metadata": {
            "tags": []
          },
          "execution_count": 14
        }
      ]
    },
    {
      "cell_type": "code",
      "metadata": {
        "id": "Av_-bvO_IwDM",
        "colab_type": "code",
        "outputId": "a2b7af79-cad4-4038-99e6-eb7dc63f9e83",
        "colab": {
          "base_uri": "https://localhost:8080/",
          "height": 68
        }
      },
      "source": [
        "index2=list(range(pos_req+1,final_df.shape[0]-pos_req))\n",
        "print(pos_req+1)\n",
        "print(final_df.shape[0])\n",
        "print(final_df.shape[0]-pos_req)"
      ],
      "execution_count": 15,
      "outputs": [
        {
          "output_type": "stream",
          "text": [
            "26309\n",
            "52616\n",
            "26308\n"
          ],
          "name": "stdout"
        }
      ]
    },
    {
      "cell_type": "code",
      "metadata": {
        "id": "yYyQzlbbFitf",
        "colab_type": "code",
        "outputId": "519c23cc-8ce8-429e-8bf7-7efa0e7c82b6",
        "colab": {
          "base_uri": "https://localhost:8080/",
          "height": 51
        }
      },
      "source": [
        "print(new_pos_df.shape[0])\n",
        "print(new_neg_df.shape[0])\n",
        "\n",
        "yoyo=pd.concat([new_pos_df, new_neg_df], axis=0)\n"
      ],
      "execution_count": 16,
      "outputs": [
        {
          "output_type": "stream",
          "text": [
            "26308\n",
            "26308\n"
          ],
          "name": "stdout"
        }
      ]
    },
    {
      "cell_type": "code",
      "metadata": {
        "id": "fE_wvsc4k497",
        "colab_type": "code",
        "colab": {}
      },
      "source": [
        "pos_test = test['stars']>=4\n",
        "pos_test = test[pos_test]\n",
        "neg_test = test['stars']<=2\n",
        "neg_test = test[neg_test]\n",
        "avg_test = test['stars']==3\n",
        "avg_test = test[avg_test]"
      ],
      "execution_count": 0,
      "outputs": []
    },
    {
      "cell_type": "code",
      "metadata": {
        "id": "39_UUaSGlNrx",
        "colab_type": "code",
        "outputId": "785ce07e-fc35-4e77-9224-21497c303b0b",
        "colab": {
          "base_uri": "https://localhost:8080/",
          "height": 68
        }
      },
      "source": [
        "print(pos_test.shape)\n",
        "print(neg_test.shape)\n",
        "print(avg_test.shape)"
      ],
      "execution_count": 18,
      "outputs": [
        {
          "output_type": "stream",
          "text": [
            "(3476663, 4)\n",
            "(1169524, 4)\n",
            "(615481, 4)\n"
          ],
          "name": "stdout"
        }
      ]
    },
    {
      "cell_type": "code",
      "metadata": {
        "id": "rAjNryJXRRBd",
        "colab_type": "code",
        "colab": {}
      },
      "source": [
        "new_pos_df = pos_test.sample(500000)\n",
        "new_neg_df = neg_test.sample(500000)\n",
        "new_avg_df = avg_test.sample(500000)"
      ],
      "execution_count": 0,
      "outputs": []
    },
    {
      "cell_type": "code",
      "metadata": {
        "id": "C33uu6YwSZGu",
        "colab_type": "code",
        "outputId": "05be7e5c-a0d1-45de-dcb5-cf5190792584",
        "colab": {
          "base_uri": "https://localhost:8080/",
          "height": 68
        }
      },
      "source": [
        "print(new_pos_df.isnull().values.any())\n",
        "print(new_neg_df.isnull().values.any())\n",
        "print(new_avg_df.isnull().values.any())"
      ],
      "execution_count": 40,
      "outputs": [
        {
          "output_type": "stream",
          "text": [
            "False\n",
            "False\n",
            "False\n"
          ],
          "name": "stdout"
        }
      ]
    },
    {
      "cell_type": "code",
      "metadata": {
        "id": "IyTPEp8fUr0k",
        "colab_type": "code",
        "colab": {}
      },
      "source": [
        "index=list(range(1,500001))\n",
        "index2=list(range(25001,25004))\n",
        "index3=index+index2"
      ],
      "execution_count": 0,
      "outputs": []
    },
    {
      "cell_type": "code",
      "metadata": {
        "id": "b2vIwYGmWUkj",
        "colab_type": "code",
        "outputId": "01b3156f-6480-440a-ac96-57296b19a7a5",
        "colab": {
          "base_uri": "https://localhost:8080/",
          "height": 34
        }
      },
      "source": [
        "index3[-5:]"
      ],
      "execution_count": 42,
      "outputs": [
        {
          "output_type": "execute_result",
          "data": {
            "text/plain": [
              "[499999, 500000, 25001, 25002, 25003]"
            ]
          },
          "metadata": {
            "tags": []
          },
          "execution_count": 42
        }
      ]
    },
    {
      "cell_type": "code",
      "metadata": {
        "id": "PyPN-EQEVJ3Q",
        "colab_type": "code",
        "colab": {}
      },
      "source": [
        "new_pos_df.index = index\n",
        "new_neg_df.index = index\n",
        "new_avg_df.index = index"
      ],
      "execution_count": 0,
      "outputs": []
    },
    {
      "cell_type": "code",
      "metadata": {
        "id": "b4--LB5DV1av",
        "colab_type": "code",
        "colab": {}
      },
      "source": [
        "new_pos_df.to_csv('pos_cleaned_25k_yelp.csv',index=False)\n",
        "new_neg_df.to_csv('neg_cleaned_25k_yelp.csv',index=False)\n",
        "new_avg_df.to_csv('avg_cleaned_25k_yelp.csv',index=False)"
      ],
      "execution_count": 0,
      "outputs": []
    },
    {
      "cell_type": "code",
      "metadata": {
        "id": "frRqr9zCaBNl",
        "colab_type": "code",
        "outputId": "ae8e9c1c-3179-47fc-bc54-905b37424ec1",
        "colab": {
          "base_uri": "https://localhost:8080/",
          "height": 68
        }
      },
      "source": [
        "print(new_pos_df.shape)\n",
        "print(new_neg_df.shape)\n",
        "print(new_avg_df.shape)"
      ],
      "execution_count": 44,
      "outputs": [
        {
          "output_type": "stream",
          "text": [
            "(500000, 4)\n",
            "(500000, 4)\n",
            "(500000, 4)\n"
          ],
          "name": "stdout"
        }
      ]
    },
    {
      "cell_type": "code",
      "metadata": {
        "id": "EYCwY_cZaIAO",
        "colab_type": "code",
        "colab": {}
      },
      "source": [
        "new_pos_df.head(10)"
      ],
      "execution_count": 0,
      "outputs": []
    },
    {
      "cell_type": "code",
      "metadata": {
        "id": "UDpBHdFDm_ae",
        "colab_type": "code",
        "colab": {}
      },
      "source": [
        "new_neg_df.head(10)"
      ],
      "execution_count": 0,
      "outputs": []
    },
    {
      "cell_type": "code",
      "metadata": {
        "id": "Sl1VDIgznCCp",
        "colab_type": "code",
        "colab": {}
      },
      "source": [
        "new_avg_df.head(10)"
      ],
      "execution_count": 0,
      "outputs": []
    },
    {
      "cell_type": "code",
      "metadata": {
        "id": "vA_4wy4ae4J6",
        "colab_type": "code",
        "colab": {}
      },
      "source": [
        "poscounter=0\n",
        "negcounter=0\n",
        "avgcounter=0\n",
        "for a in new_pos_df['useful']:\n",
        "  if a>=1:\n",
        "    poscounter+=1\n",
        "for a in new_neg_df['useful']:\n",
        "  if a>=1:\n",
        "    negcounter+=1\n",
        "for a in new_avg_df['useful']:\n",
        "  if a>=1:\n",
        "    avgcounter+=1"
      ],
      "execution_count": 0,
      "outputs": []
    },
    {
      "cell_type": "code",
      "metadata": {
        "id": "wWiGdNJYe6u0",
        "colab_type": "code",
        "outputId": "0dd40768-cebf-441b-b74b-357494a3d6cc",
        "colab": {
          "base_uri": "https://localhost:8080/",
          "height": 68
        }
      },
      "source": [
        "print(poscounter)\n",
        "print(negcounter)\n",
        "print(avgcounter)"
      ],
      "execution_count": 48,
      "outputs": [
        {
          "output_type": "stream",
          "text": [
            "222077\n",
            "286856\n",
            "246058\n"
          ],
          "name": "stdout"
        }
      ]
    },
    {
      "cell_type": "code",
      "metadata": {
        "id": "IQey5VDQhE-Z",
        "colab_type": "code",
        "colab": {}
      },
      "source": [
        "\n",
        "#Removing Useful outliers\n",
        "\n",
        "posdata = new_pos_df[new_pos_df[\"useful\"] < 5]\n",
        "negdata = new_neg_df[new_neg_df[\"useful\"] < 5]"
      ],
      "execution_count": 0,
      "outputs": []
    },
    {
      "cell_type": "code",
      "metadata": {
        "id": "Qjw5a8IYuETZ",
        "colab_type": "code",
        "colab": {
          "base_uri": "https://localhost:8080/",
          "height": 51
        },
        "outputId": "d8dc0e2c-f2f7-4300-b9c9-a165e2b6bb42"
      },
      "source": [
        "poscounter=0\n",
        "negcounter=0\n",
        "for a in posdata['useful']:\n",
        "  if a>=1:\n",
        "    poscounter+=1\n",
        "for a in negdata['useful']:\n",
        "  if a>=1:\n",
        "    negcounter+=1\n",
        "print(poscounter)\n",
        "print(negcounter)"
      ],
      "execution_count": 50,
      "outputs": [
        {
          "output_type": "stream",
          "text": [
            "193148\n",
            "228661\n"
          ],
          "name": "stdout"
        }
      ]
    },
    {
      "cell_type": "code",
      "metadata": {
        "id": "GBttAmiXffQn",
        "colab_type": "code",
        "outputId": "e554fe83-a9f9-470f-ab0a-f5396086fd4c",
        "colab": {
          "base_uri": "https://localhost:8080/",
          "height": 279
        }
      },
      "source": [
        "import seaborn as sns\n",
        "sns.distplot(posdata['useful']);\n"
      ],
      "execution_count": 51,
      "outputs": [
        {
          "output_type": "display_data",
          "data": {
            "image/png": "[encoded data removed]",
            "text/plain": [
              "<Figure size 432x288 with 1 Axes>"
            ]
          },
          "metadata": {
            "tags": []
          }
        }
      ]
    },
    {
      "cell_type": "code",
      "metadata": {
        "id": "Etyu_lRpg9jA",
        "colab_type": "code",
        "outputId": "f276583c-442f-4303-f834-2936c3718d86",
        "colab": {
          "base_uri": "https://localhost:8080/",
          "height": 296
        }
      },
      "source": [
        "sns.distplot(negdata['useful'])"
      ],
      "execution_count": 52,
      "outputs": [
        {
          "output_type": "execute_result",
          "data": {
            "text/plain": [
              "<matplotlib.axes._subplots.AxesSubplot at 0x7f56986c5dd8>"
            ]
          },
          "metadata": {
            "tags": []
          },
          "execution_count": 52
        },
        {
          "output_type": "display_data",
          "data": {
            "image/png": "[encoded data removed]",
            "text/plain": [
              "<Figure size 432x288 with 1 Axes>"
            ]
          },
          "metadata": {
            "tags": []
          }
        }
      ]
    },
    {
      "cell_type": "markdown",
      "metadata": {
        "id": "h0j8btz7sXGE",
        "colab_type": "text"
      },
      "source": [
        "The above two graphs proves that people are more agreeable and find negative and critical reviews more useful than positive reviews. The reason of this could probably be that the person going through the reviews found more useful details which generally humans tend to explain in detail for discontent rather than the otherway around. While the data is almost equal, (193148 and 228661) out of random 500000 samples, the number of zero votes is half of that of positive reviews for negative reviews.\n",
        "\n"
      ]
    },
    {
      "cell_type": "code",
      "metadata": {
        "id": "ag5ECzByh4fN",
        "colab_type": "code",
        "outputId": "e530c912-1ade-433f-f1ba-cbfaa6c4572a",
        "colab": {
          "base_uri": "https://localhost:8080/",
          "height": 68
        }
      },
      "source": [
        "import os\n",
        "import pandas as pd\n",
        "import warnings\n",
        "\n",
        "\n",
        "def generate_data(csvpath,percent=1,distrib=[50,50]):\n",
        "  '''\n",
        "  Generates Data according to the paramters.\n",
        "  \n",
        "  csvpath: give directory path to the entire csv file (~3.5GB). Its on GDrive.\n",
        "\n",
        "  percent: Total entries = 5.26 Million, input the % of this, you want TOTALLY.\n",
        "           Range = 0 to 100, type = int or float.\n",
        "           Default = 1\n",
        "\n",
        "  distrib: This asks for distribution of +ve and -ve reviews.\n",
        "           positive (>4 stars) and negative (<2 stars) in a list.\n",
        "           Range = 0 to 100, type = integer. \n",
        "           Sample [40,60]. 40% is positive, 60% is negative.\n",
        "           Default = [50,50]\n",
        "  '''\n",
        "\n",
        "  exception_handling(csvpath,percent=percent,distrib=distrib)\n",
        "  print(\"Reading CSV....(Might take around 1:30mins to 2mins- 3.5GB file)\")\n",
        "  test = pd.read_csv(csvpath)\n",
        "  print(\"Reading Done.\")\n",
        "  del test['review_id']\n",
        "  del test['user_id']\n",
        "  del test['business_id']\n",
        "  del test['funny']\n",
        "  del test['cool']\n",
        "  star_count=[]\n",
        "  for i in range(1,6):\n",
        "    star_count.append(test[test['stars']==i].shape[0])\n",
        "  total_pos_count = star_count[3]+star_count[4]\n",
        "  total_neg_count = star_count[0]+star_count[1]\n",
        "  num_data  = round((test.shape[0]*percent)/100)\n",
        "  if(True):\n",
        "    pos_req = round((num_data*distrib[0])/100)\n",
        "    neg_req = round((num_data*distrib[1])/100)\n",
        "    pos_test = test['stars']>=4\n",
        "    neg_test = test['stars']<=2\n",
        "    pos_test = test[pos_test]\n",
        "    neg_test = test[neg_test]\n",
        "    if (pos_req <= total_pos_count and neg_req <= total_neg_count):\n",
        "      new_pos_df = pos_test.sample(pos_req)\n",
        "      new_pos_df = new_pos_df.reset_index(drop=True)\n",
        "      new_neg_df = neg_test.sample(neg_req)\n",
        "      new_neg_df = new_neg_df.reset_index(drop=True)\n",
        "      final_df=pd.concat([new_pos_df, new_neg_df], axis=0)\n",
        "      index1=list(range(1,pos_req+1))\n",
        "      index2=list(range(pos_req+1,final_df.shape[0]+1))\n",
        "      index=index1+index2\n",
        "      final_df.index=index            \n",
        "    else:\n",
        "      if (pos_req <= total_pos_count and neg_req > total_neg_count):\n",
        "        new_pos_df = pos_test.sample(pos_req)\n",
        "        new_pos_df = new_pos_df.reset_index(drop=True)\n",
        "        new_neg_df = neg_test.copy()\n",
        "        new_neg_df = new_neg_df.reset_index(drop=True)\n",
        "        final_df=pd.concat([new_pos_df, new_neg_df], axis=0)\n",
        "        index1=list(range(1,pos_req+1))\n",
        "        index2=list(range(pos_req+1,final_df.shape[0]+1))\n",
        "        index=index1+index2\n",
        "        final_df.index=index\n",
        "        warnings.warn(\"\\nUnable to satisfy negative reviews due to requirement\"+\n",
        "                      \" being larger than availble in original CSV. \\n\"+\n",
        "                      \"Please modify percent and/or distrib accordingly. \\n\"+\n",
        "                      \"However used all negative reviews and generated, \"+\n",
        "                      \"ratio may not be maintained.\")\n",
        "      if (pos_req > total_pos_count and neg_req <= total_neg_count):\n",
        "        new_neg_df = neg_test.sample(neg_req)\n",
        "        new_neg_df = new_neg_df.reset_index(drop=True)\n",
        "        new_pos_df = pos_test.copy()\n",
        "        new_pos_df = new_pos_df.reset_index(drop=True)\n",
        "        final_df=pd.concat([new_neg_df, new_pos_df], axis=0)\n",
        "        index1=list(range(1,neg_req+1))\n",
        "        index2=list(range(neg_req+1,final_df.shape[0]+1))\n",
        "        index=index1+index2\n",
        "        final_df.index=index\n",
        "        warnings.warn(\"\\nUnable to satisfy positive reviews due to requirement\"+\n",
        "                      \" being larger than availble in original CSV. \\n\"+\n",
        "                      \"Please modify percent and/or distrib accordingly. \\n\"+\n",
        "                      \"However used all positive reviews and generated, \"+\n",
        "                      \"ratio may not be maintained.\")\n",
        "  print(\"Data Generated\")\n",
        "  return final_df\n",
        "\n",
        "\n",
        "def exception_handling(csvpath,percent,distrib):\n",
        "  '''\n",
        "  Handles Exception for the function Generate Data\n",
        "  '''\n",
        "  if(type(percent)!=float and type(percent)!=int):\n",
        "    raise TypeError('Percent should be int or float Value.')\n",
        "  if(percent<0 or percent>100):\n",
        "    raise ValueError('Percent Value should be between 0 and 100.')\n",
        "  if(type(distrib)!=list):\n",
        "    raise TypeError('Distribution parameter must be of list type.')\n",
        "  if(len(distrib)!=2):\n",
        "    raise IndexError('The Distribution list must be of length two')\n",
        "  if(sum(distrib)!=100):\n",
        "    raise ValueError('The sum of values of list distrib must be 100')\n",
        "  if not(os.path.exists(csvpath)):\n",
        "    raise FileNotFoundError('Please give a correct path to the entire Yelp'+\n",
        "                            ' Review CSV.')\n",
        "\n",
        "#Sample Code calling Function\n",
        "#filepath='drive/My Drive/Text Analytics/Dataset/yelp_review.csv'\n",
        "#data = generate_data(filepath,percent=10)"
      ],
      "execution_count": 0,
      "outputs": [
        {
          "output_type": "stream",
          "text": [
            "Reading CSV....(Might take around 1:30mins to 2mins- 3.5GB file)\n",
            "Reading Done.\n",
            "Data Generated\n"
          ],
          "name": "stdout"
        }
      ]
    }
  ]
}